{
 "cells": [
  {
   "cell_type": "markdown",
   "metadata": {},
   "source": [
    "# Exercise 3\n",
    "### Anton Wiehe & Angelie Kraftelie"
   ]
  },
  {
   "cell_type": "code",
   "execution_count": 2,
   "metadata": {},
   "outputs": [],
   "source": [
    "from PIL import Image\n",
    "import numpy as np\n",
    "import matplotlib.pyplot as plt\n",
    "\n",
    "# Test image\n",
    "im_frame = Image.open(\"positives/\" + 'p01.png')\n",
    "np_frame = np.array(im_frame.getdata())\n",
    "\n",
    "# Load images (30, 573, 3) == (num_images, num_pixels, rgb)\n",
    "n = 30\n",
    "positives = np.zeros((n, 576, 3))\n",
    "for i in range(n):\n",
    "    im_frame = Image.open(\"positives/\" + 'p' + ('0' if (i+1) < 10 else '') + str(i + 1) + '.png')\n",
    "    positives[i] = np.array(im_frame.getdata())\n",
    "    \n",
    "negatives = np.zeros((n, 576, 3))\n",
    "for i in range(n):\n",
    "    im_frame = Image.open(\"negatives/\" + 'n' + ('0' if (i+1) < 10 else '') + str(i + 1) + '.png')\n",
    "    negatives[i] = np.array(im_frame.getdata())"
   ]
  },
  {
   "cell_type": "code",
   "execution_count": null,
   "metadata": {},
   "outputs": [],
   "source": []
  },
  {
   "cell_type": "code",
   "execution_count": 3,
   "metadata": {},
   "outputs": [
    {
     "data": {
      "image/png": "[encoded data removed]",
      "text/plain": [
       "<matplotlib.figure.Figure at 0x7fd434495240>"
      ]
     },
     "metadata": {},
     "output_type": "display_data"
    }
   ],
   "source": [
    "red_pos = positives[:, :, 0]\n",
    "green_pos = positives[:, :, 1]\n",
    "blue_pos = positives[:, :, 2]\n",
    "\n",
    "red_mean_pos = np.mean(red_pos, axis=1)\n",
    "blue_mean_pos = np.mean(green_pos, axis=1)\n",
    "green_mean_pos = np.mean(blue_pos, axis=1)\n",
    "\n",
    "plt.hist(red_mean_pos, color=\"red\")\n",
    "plt.hist(blue_mean_pos, color=\"blue\")\n",
    "plt.hist(green_mean_pos, color=\"green\")\n",
    "plt.title(\"R/G/B mean value distribution for positive examples\")\n",
    "plt.show()\n"
   ]
  },
  {
   "cell_type": "code",
   "execution_count": 4,
   "metadata": {},
   "outputs": [
    {
     "data": {
      "image/png": "[encoded data removed]",
      "text/plain": [
       "<matplotlib.figure.Figure at 0x7fd40a053470>"
      ]
     },
     "metadata": {},
     "output_type": "display_data"
    }
   ],
   "source": [
    "red_neg = negatives[:, :, 0]\n",
    "green_neg = negatives[:, :, 1]\n",
    "blue_neg = negatives[:, :, 2]\n",
    "\n",
    "red_mean_neg = np.mean(red_neg, axis=1)\n",
    "blue_mean_neg = np.mean(green_neg, axis=1)\n",
    "green_mean_neg = np.mean(blue_neg, axis=1)\n",
    "\n",
    "plt.hist(red_mean_neg, color=\"red\")\n",
    "plt.hist(blue_mean_neg, color=\"blue\")\n",
    "plt.hist(green_mean_neg, color=\"green\")\n",
    "plt.title(\"R/G/B mean value distribution for negative examples\")\n",
    "plt.show()"
   ]
  },
  {
   "cell_type": "code",
   "execution_count": 5,
   "metadata": {},
   "outputs": [
    {
     "data": {
      "image/png": "[encoded data removed]",
      "text/plain": [
       "<matplotlib.figure.Figure at 0x7fd434510d68>"
      ]
     },
     "metadata": {},
     "output_type": "display_data"
    }
   ],
   "source": [
    "red_std_pos = np.std(red_pos, axis=1)\n",
    "blue_std_pos = np.std(green_pos, axis=1)\n",
    "green_std_pos = np.std(blue_pos, axis=1)\n",
    "\n",
    "plt.hist(red_std_pos, color=\"red\")\n",
    "plt.hist(blue_std_pos, color=\"blue\")\n",
    "plt.hist(green_std_pos, color=\"green\")\n",
    "plt.title(\"R/G/B std value distribution for positive examples\")\n",
    "plt.show()"
   ]
  },
  {
   "cell_type": "code",
   "execution_count": 10,
   "metadata": {},
   "outputs": [
    {
     "name": "stdout",
     "output_type": "stream",
     "text": [
      "(30,)\n",
      "(30,)\n"
     ]
    },
    {
     "data": {
      "image/png": "[encoded data removed]",
      "text/plain": [
       "<matplotlib.figure.Figure at 0x7fd409c31898>"
      ]
     },
     "metadata": {},
     "output_type": "display_data"
    }
   ],
   "source": [
    "red_std_neg = np.std(red_neg, axis=1)\n",
    "blue_std_neg = np.std(green_neg, axis=1)\n",
    "green_std_neg = np.std(blue_neg, axis=1)\n",
    "\n",
    "\n",
    "max_five_pixels_red_pos = np.mean(np.sort(red_pos, axis=1)[:, :5], axis=1)\n",
    "max_five_pixels_blue_pos = np.mean(np.sort(blue_pos, axis=1)[:, :5], axis=1)\n",
    "max_five_pixels_green_pos = np.mean(np.sort(green_pos, axis=1)[:, :5], axis=1)\n",
    "\n",
    "max_five_pixels_red_neg = np.mean(np.sort(red_neg, axis=1)[:, :5], axis=1)\n",
    "max_five_pixels_blue_neg = np.mean(np.sort(blue_neg, axis=1)[:, :5], axis=1)\n",
    "max_five_pixels_green_neg = np.mean(np.sort(green_neg, axis=1)[:, :5], axis=1)\n",
    "\n",
    "#plt.hist(red_std_neg, color=\"red\")\n",
    "#plt.hist(blue_std_neg, color=\"blue\")\n",
    "#plt.hist(green_std_neg, color=\"green\")\n",
    "#plt.title(\"R/G/B std value distribution for negative examples\")\n",
    "#plt.show()\n",
    "\n",
    "print(np.shape(red_std_neg))\n",
    "print(np.shape(max_five_pixels_red_neg))\n",
    "plt.hist(max_five_pixels_green_neg, color=\"blue\", label=\"neg\")\n",
    "plt.hist(max_five_pixels_green_pos, color=\"red\", label=\"pos\")\n",
    "plt.legend()\n",
    "plt.show()"
   ]
  },
  {
   "cell_type": "code",
   "execution_count": 11,
   "metadata": {},
   "outputs": [
    {
     "data": {
      "text/plain": [
       "(30, 6)"
      ]
     },
     "execution_count": 11,
     "metadata": {},
     "output_type": "execute_result"
    }
   ],
   "source": [
    "pos_features = np.concatenate([np.reshape(red_std_pos, (n, 1)),\n",
    "                              np.reshape(blue_std_pos, (n, 1)), np.reshape(green_std_pos, (n, 1)), \n",
    "                              np.reshape(max_five_pixels_red_pos, (n, 1)), np.reshape(max_five_pixels_blue_pos, (n, 1))\n",
    "                            , np.reshape(max_five_pixels_green_pos, (n, 1))], axis=1)\n",
    "neg_features = np.concatenate([np.reshape(red_std_neg, (n, 1)),\n",
    "                              np.reshape(blue_std_neg, (n, 1)), np.reshape(green_std_neg, (n, 1)), \n",
    "                              np.reshape(max_five_pixels_red_neg, (n, 1)), np.reshape(max_five_pixels_blue_neg, (n, 1))\n",
    "                            , np.reshape(max_five_pixels_green_neg, (n, 1))], axis=1)\n",
    "num_features = np.shape(pos_features)[1]\n",
    "np.shape(pos_features)"
   ]
  },
  {
   "cell_type": "code",
   "execution_count": 12,
   "metadata": {},
   "outputs": [],
   "source": [
    "def split_test_train(features_0, features_1):\n",
    "    test_split_percentage = 0.05\n",
    "    number_of_tests = int(n * 2 * 0.1)\n",
    "\n",
    "    test_idxs = np.random.randint(0, n * 2, number_of_tests)\n",
    "    both = np.concatenate((features_0, features_1), axis=0)\n",
    "    test_features = both[test_idxs,:]\n",
    "    test_labels = (test_idxs >= 30)\n",
    "\n",
    "    #print(\"Test idxs: \", test_idxs)\n",
    "    idxs_0 = test_idxs[test_idxs < n]\n",
    "    idxs_1 = test_idxs[test_idxs >= n] - n\n",
    "\n",
    "    features_0 = np.delete(features_0, idxs_0, axis=0)\n",
    "    features_1 = np.delete(features_1, idxs_1, axis=0)\n",
    "    \n",
    "    return features_0, features_1, test_features, test_labels"
   ]
  },
  {
   "cell_type": "code",
   "execution_count": 13,
   "metadata": {},
   "outputs": [],
   "source": [
    "# Shuffle two lists in same order\n",
    "def shuffle(a,b):\n",
    "    assert len(a) == len(b)\n",
    "    idxs = np.arange(0, len(a), 1)\n",
    "    np.random.shuffle(idxs)\n",
    "    return a[idxs], b[idxs]"
   ]
  },
  {
   "cell_type": "code",
   "execution_count": 14,
   "metadata": {},
   "outputs": [],
   "source": [
    "def k_fold(features_0, features_1, k=10):\n",
    "    num_features = len(features_0[0])\n",
    "    split_percentage = 1 / k\n",
    "    samples_per_split = (len(features_0) + len(features_1)) // k\n",
    "    both_features = np.concatenate((features_0, features_1), axis=0)\n",
    "    both_labels = np.concatenate((np.zeros(len(features_0)), np.ones(len(features_1))), axis=0)\n",
    "    splits = np.zeros((k, samples_per_split, num_features))\n",
    "    splits_labels = np.zeros((k, samples_per_split))\n",
    "    for i in range(k):\n",
    "        split_idxs = np.random.randint(0, len(both_features), samples_per_split)\n",
    "        split_labels = both_labels[split_idxs]\n",
    "        split = both_features[split_idxs]\n",
    "\n",
    "        splits[i] = split\n",
    "        splits_labels[i] = split_labels\n",
    "\n",
    "        both_labels = np.delete(both_labels, split_idxs, axis=0)\n",
    "        both_features = np.delete(both_features, split_idxs, axis=0)\n",
    "\n",
    "    return splits, splits_labels\n",
    "    "
   ]
  },
  {
   "cell_type": "code",
   "execution_count": 15,
   "metadata": {},
   "outputs": [],
   "source": [
    "def evaluate_k_fold(splits, split_labels):\n",
    "    train_accuracies = np.zeros(len(splits))\n",
    "    test_accuracies = np.zeros(len(splits))\n",
    "    \n",
    "    train_accuracies = []\n",
    "    test_accuracies = []\n",
    "    for i in range(len(splits)):\n",
    "        features = np.concatenate((splits[0:i], splits[i + 1:]), axis=0)\n",
    "        labels = np.concatenate((split_labels[0:i], split_labels[i + 1:]), axis=0)\n",
    "        test_features = splits[i]\n",
    "        test_labels = split_labels[i]\n",
    "        features_0 = features[labels == 0]\n",
    "        features_1 = features[labels == 1]\n",
    "        \n",
    "        #print(np.shape(splits))\n",
    "        #print(np.shape(split_labels))\n",
    "        features = np.reshape(features, ((len(features) * len(features[0]), len(features[0][0]))))\n",
    "        labels = np.reshape(labels, (len(labels) * len(labels[0])))\n",
    "\n",
    "        \n",
    "        test_accuracy = train_and_test(features_0, features_1, test_features, test_labels)\n",
    "        test_accuracies.append(test_accuracy)\n",
    "        train_accuracy = train_and_test(features_0, features_1, features, labels)\n",
    "        train_accuracies.append(train_accuracy)\n",
    "        \n",
    "        #print(\"Split \", i ,)\n",
    "        #print(\" Test Accuracy: \", test_accuracy)\n",
    "        #print(\" Train Accuracy: \", train_accuracy)\n",
    "        #print()\n",
    "        \n",
    "    return np.mean(train_accuracies), np.mean(test_accuracies)\n",
    "        "
   ]
  },
  {
   "cell_type": "code",
   "execution_count": 24,
   "metadata": {},
   "outputs": [
    {
     "name": "stdout",
     "output_type": "stream",
     "text": [
      "Parameters:\n",
      "phi:  0.8\n",
      "mu_0:  [ 19.38541321  24.84986984  10.50157667 106.         108.77333333\n",
      "  58.96      ]\n",
      "mu_1:  [  9.15690078   9.9563192    8.52678672 141.47333333 105.81333333\n",
      " 104.33333333]\n",
      "sigma:  [[ 11.96119416  12.41573794   4.78475766 -28.00904557 -15.92611044\n",
      "  -28.2439644 ]\n",
      " [ 12.41573794  16.80342623   6.84672572 -20.06133104 -11.73869699\n",
      "  -28.28315415]\n",
      " [  4.78475766   6.84672572   7.09125098  -1.35808096 -18.47051778\n",
      "  -12.18697228]\n",
      " [-28.00904557 -20.06133104  -1.35808096 223.13264444  99.10617778\n",
      "  165.98711111]\n",
      " [-15.92611044 -11.73869699 -18.47051778  99.10617778 179.99022222\n",
      "  132.57991111]\n",
      " [-28.2439644  -28.28315415 -12.18697228 165.98711111 132.57991111\n",
      "  207.00231111]]\n",
      "Difficult features:  [ 18.17166593  24.91023598   7.91387907 107.         114.8\n",
      "  57.4       ]\n",
      "Parameters:\n",
      "phi:  0.8\n",
      "mu_0:  [ 19.38541321  24.84986984  10.50157667 106.         108.77333333\n",
      "  58.96      ]\n",
      "mu_1:  [  9.15690078   9.9563192    8.52678672 141.47333333 105.81333333\n",
      " 104.33333333]\n",
      "sigma:  [[ 11.96119416  12.41573794   4.78475766 -28.00904557 -15.92611044\n",
      "  -28.2439644 ]\n",
      " [ 12.41573794  16.80342623   6.84672572 -20.06133104 -11.73869699\n",
      "  -28.28315415]\n",
      " [  4.78475766   6.84672572   7.09125098  -1.35808096 -18.47051778\n",
      "  -12.18697228]\n",
      " [-28.00904557 -20.06133104  -1.35808096 223.13264444  99.10617778\n",
      "  165.98711111]\n",
      " [-15.92611044 -11.73869699 -18.47051778  99.10617778 179.99022222\n",
      "  132.57991111]\n",
      " [-28.2439644  -28.28315415 -12.18697228 165.98711111 132.57991111\n",
      "  207.00231111]]\n",
      "Parameters:\n",
      "phi:  0.3\n",
      "mu_0:  [ 19.38541321  24.84986984  10.50157667 106.         108.77333333\n",
      "  58.96      ]\n",
      "mu_1:  [  9.15690078   9.9563192    8.52678672 141.47333333 105.81333333\n",
      " 104.33333333]\n",
      "sigma:  [[ 11.96119416  12.41573794   4.78475766 -28.00904557 -15.92611044\n",
      "  -28.2439644 ]\n",
      " [ 12.41573794  16.80342623   6.84672572 -20.06133104 -11.73869699\n",
      "  -28.28315415]\n",
      " [  4.78475766   6.84672572   7.09125098  -1.35808096 -18.47051778\n",
      "  -12.18697228]\n",
      " [-28.00904557 -20.06133104  -1.35808096 223.13264444  99.10617778\n",
      "  165.98711111]\n",
      " [-15.92611044 -11.73869699 -18.47051778  99.10617778 179.99022222\n",
      "  132.57991111]\n",
      " [-28.2439644  -28.28315415 -12.18697228 165.98711111 132.57991111\n",
      "  207.00231111]]\n",
      "Parameters:\n",
      "phi:  0.3\n",
      "mu_0:  [ 19.38541321  24.84986984  10.50157667 106.         108.77333333\n",
      "  58.96      ]\n",
      "mu_1:  [  9.15690078   9.9563192    8.52678672 141.47333333 105.81333333\n",
      " 104.33333333]\n",
      "sigma:  [[ 11.96119416  12.41573794   4.78475766 -28.00904557 -15.92611044\n",
      "  -28.2439644 ]\n",
      " [ 12.41573794  16.80342623   6.84672572 -20.06133104 -11.73869699\n",
      "  -28.28315415]\n",
      " [  4.78475766   6.84672572   7.09125098  -1.35808096 -18.47051778\n",
      "  -12.18697228]\n",
      " [-28.00904557 -20.06133104  -1.35808096 223.13264444  99.10617778\n",
      "  165.98711111]\n",
      " [-15.92611044 -11.73869699 -18.47051778  99.10617778 179.99022222\n",
      "  132.57991111]\n",
      " [-28.2439644  -28.28315415 -12.18697228 165.98711111 132.57991111\n",
      "  207.00231111]]\n",
      "Difficult features:  [ 18.17166593  24.91023598   7.91387907 107.         114.8\n",
      "  57.4       ]\n"
     ]
    }
   ],
   "source": [
    "folds, labels = k_fold(pos_features, neg_features, 2)\n",
    "#folds\n",
    "train, test = evaluate_k_fold(folds, labels)\n",
    "#print(\"Overall train - test accuracy: \", train, test)\n",
    "#train_and_test(pos_features, neg_features, np.concatenate((pos_features, neg_features)), np.concatenate((np.zeros(30), np.ones(30))))"
   ]
  },
  {
   "cell_type": "code",
   "execution_count": 17,
   "metadata": {},
   "outputs": [],
   "source": [
    "# Calculate Parameters:\n",
    "def calculate_parameters(features_0, features_1):\n",
    "    phi = len(features_0) / (len(features_0) + len(features_1))\n",
    "    mu_0 = np.mean(pos_features, axis=0)\n",
    "    mu_1 = np.mean(neg_features, axis=0)\n",
    "    #temp_0 = (pos_features - mu_0) @ (pos_features - mu_0)\n",
    "    temp_0 = np.array([np.reshape((feature_vec - mu_0), (num_features, 1)) @ np.reshape(feature_vec - mu_0, (1, num_features)) for feature_vec in pos_features])\n",
    "    #temp_1 = (neg_features - mu_1) @ (neg_features - mu_1)\n",
    "    temp_1 = np.array([(feature_vec - mu_1).reshape(num_features, 1) @ (feature_vec - mu_1).reshape(1, num_features) for feature_vec in neg_features])\n",
    "\n",
    "    sigma = np.mean(np.concatenate([temp_0, temp_1], axis=0), axis=0)\n",
    "    print(\"Parameters:\")\n",
    "    print(\"phi: \", phi)\n",
    "    print(\"mu_0: \", mu_0)\n",
    "    print(\"mu_1: \", mu_1)\n",
    "    print(\"sigma: \", sigma)\n",
    "    return phi, mu_0, mu_1, sigma"
   ]
  },
  {
   "cell_type": "code",
   "execution_count": 18,
   "metadata": {},
   "outputs": [],
   "source": [
    "#print(sigma)\n",
    "#print(np.shape(np.concatenate([temp_0, temp_1])))\n",
    "#print(np.shape(sigma))\n"
   ]
  },
  {
   "cell_type": "code",
   "execution_count": 19,
   "metadata": {},
   "outputs": [],
   "source": [
    "def likelihood(x, mu, sigma):\n",
    "    n_umberOfFeatures = len(mu)\n",
    "    n = n_umberOfFeatures\n",
    "    denominator = ((2 * np.pi) ** (n / 2) * np.linalg.det(sigma) ** (1/2))\n",
    "    #print(\"determinant\", np.linalg.det(sigma))\n",
    "    #print(\"Denominator: \", denominator)\n",
    "    nominator = np.exp(-(1/2) * np.transpose(x - mu) @ np.linalg.inv(sigma) @ (x - mu))\n",
    "    #print(\"Nominator: \", nominator)\n",
    "    return nominator / denominator"
   ]
  },
  {
   "cell_type": "code",
   "execution_count": 20,
   "metadata": {},
   "outputs": [],
   "source": [
    "def classify(x, phi, mu_0, mu_1, sigma):\n",
    "    prob_0 = likelihood(x, mu_0, sigma) * phi\n",
    "    prob_1 = likelihood(x, mu_1, sigma) * (1 - phi)\n",
    "    \n",
    "    #print(\"Prob 0: \", prob_0)\n",
    "    #print(\"Prob 1: \", prob_1)\n",
    "    #print(\"Ratio:\", prob_0 / prob_1)\n",
    "    if prob_0 > prob_1:\n",
    "        #print(\"Predicted: 0 - positive\")\n",
    "        return 0\n",
    "    else:\n",
    "        #print(\"Predicted: 1 - negative\")\n",
    "        return 1"
   ]
  },
  {
   "cell_type": "code",
   "execution_count": 21,
   "metadata": {},
   "outputs": [],
   "source": [
    "def train_and_test(features_0, features_1, test_features, test_labels):\n",
    "    phi, mu_0, mu_1, sigma = calculate_parameters(features_0, features_1)\n",
    "    \n",
    "    n_correct = 0\n",
    "    for i in range(len(test_features)):\n",
    "        correct = test_labels[i] == classify(test_features[i], phi, mu_0, mu_1, sigma)\n",
    "        n_correct += correct\n",
    "        if not correct:\n",
    "            print(\"Difficult features: \", test_features[i])\n",
    "    return n_correct / len(test_features) \n",
    "    "
   ]
  },
  {
   "cell_type": "code",
   "execution_count": 22,
   "metadata": {},
   "outputs": [
    {
     "ename": "NameError",
     "evalue": "name 'both' is not defined",
     "output_type": "error",
     "traceback": [
      "\u001b[0;31m---------------------------------------------------------------------------\u001b[0m",
      "\u001b[0;31mNameError\u001b[0m                                 Traceback (most recent call last)",
      "\u001b[0;32m<ipython-input-22-de0bd29e7f29>\u001b[0m in \u001b[0;36m<module>\u001b[0;34m()\u001b[0m\n\u001b[1;32m      3\u001b[0m \u001b[0;34m\u001b[0m\u001b[0m\n\u001b[1;32m      4\u001b[0m \u001b[0mcorrect\u001b[0m \u001b[0;34m=\u001b[0m \u001b[0;36m0\u001b[0m\u001b[0;34m\u001b[0m\u001b[0m\n\u001b[0;32m----> 5\u001b[0;31m \u001b[0;32mfor\u001b[0m \u001b[0mi\u001b[0m \u001b[0;32min\u001b[0m \u001b[0mrange\u001b[0m\u001b[0;34m(\u001b[0m\u001b[0mlen\u001b[0m\u001b[0;34m(\u001b[0m\u001b[0mboth\u001b[0m\u001b[0;34m)\u001b[0m\u001b[0;34m)\u001b[0m\u001b[0;34m:\u001b[0m\u001b[0;34m\u001b[0m\u001b[0m\n\u001b[0m\u001b[1;32m      6\u001b[0m     \u001b[0msample\u001b[0m \u001b[0;34m=\u001b[0m \u001b[0mboth\u001b[0m\u001b[0;34m[\u001b[0m\u001b[0mi\u001b[0m\u001b[0;34m]\u001b[0m\u001b[0;34m\u001b[0m\u001b[0m\n\u001b[1;32m      7\u001b[0m     \u001b[0mprediction\u001b[0m \u001b[0;34m=\u001b[0m \u001b[0mclassify\u001b[0m\u001b[0;34m(\u001b[0m\u001b[0msample\u001b[0m\u001b[0;34m,\u001b[0m \u001b[0mmu_0\u001b[0m\u001b[0;34m,\u001b[0m \u001b[0mmu_1\u001b[0m\u001b[0;34m,\u001b[0m \u001b[0msigma\u001b[0m\u001b[0;34m)\u001b[0m\u001b[0;34m\u001b[0m\u001b[0m\n",
      "\u001b[0;31mNameError\u001b[0m: name 'both' is not defined"
     ]
    }
   ],
   "source": [
    "sample = pos_features[0]\n",
    "neg_sample = neg_features[0]\n",
    "\n",
    "correct = 0\n",
    "for i in range(len(both)):\n",
    "    sample = both[i]\n",
    "    prediction = classify(sample, mu_0, mu_1, sigma)\n",
    "    if prediction == 0 and i < 30 or prediction == 1 and i >= 30:\n",
    "        correct += 1\n",
    "        #print(\"Correct!\")\n",
    "        #print()\n",
    "    else:\n",
    "        #print(\"Wrong\")\n",
    "        print(\"Wrong idx: \", i)\n",
    "        print()\n",
    "print(\"Training Accuracy: \", round(correct / len(both) * 100, 2))"
   ]
  },
  {
   "cell_type": "code",
   "execution_count": 32,
   "metadata": {},
   "outputs": [
    {
     "ename": "NameError",
     "evalue": "name 'test_features' is not defined",
     "output_type": "error",
     "traceback": [
      "\u001b[0;31m---------------------------------------------------------------------------\u001b[0m",
      "\u001b[0;31mNameError\u001b[0m                                 Traceback (most recent call last)",
      "\u001b[0;32m<ipython-input-32-39a6c6e4e855>\u001b[0m in \u001b[0;36m<module>\u001b[0;34m()\u001b[0m\n\u001b[1;32m      1\u001b[0m \u001b[0mcorrect\u001b[0m \u001b[0;34m=\u001b[0m \u001b[0;36m0\u001b[0m\u001b[0;34m\u001b[0m\u001b[0m\n\u001b[0;32m----> 2\u001b[0;31m \u001b[0;32mfor\u001b[0m \u001b[0mi\u001b[0m \u001b[0;32min\u001b[0m \u001b[0mrange\u001b[0m\u001b[0;34m(\u001b[0m\u001b[0mlen\u001b[0m\u001b[0;34m(\u001b[0m\u001b[0mtest_features\u001b[0m\u001b[0;34m)\u001b[0m\u001b[0;34m)\u001b[0m\u001b[0;34m:\u001b[0m\u001b[0;34m\u001b[0m\u001b[0m\n\u001b[0m\u001b[1;32m      3\u001b[0m     \u001b[0msample\u001b[0m \u001b[0;34m=\u001b[0m \u001b[0mneg_features\u001b[0m\u001b[0;34m[\u001b[0m\u001b[0mi\u001b[0m\u001b[0;34m]\u001b[0m\u001b[0;34m\u001b[0m\u001b[0m\n\u001b[1;32m      4\u001b[0m     \u001b[0mprediction\u001b[0m \u001b[0;34m=\u001b[0m \u001b[0mclassify\u001b[0m\u001b[0;34m(\u001b[0m\u001b[0msample\u001b[0m\u001b[0;34m,\u001b[0m \u001b[0mmu_0\u001b[0m\u001b[0;34m,\u001b[0m \u001b[0mmu_1\u001b[0m\u001b[0;34m,\u001b[0m \u001b[0msigma\u001b[0m\u001b[0;34m)\u001b[0m\u001b[0;34m\u001b[0m\u001b[0m\n\u001b[1;32m      5\u001b[0m     \u001b[0;32mif\u001b[0m \u001b[0mprediction\u001b[0m \u001b[0;34m==\u001b[0m \u001b[0mtest_labels\u001b[0m\u001b[0;34m[\u001b[0m\u001b[0mi\u001b[0m\u001b[0;34m]\u001b[0m\u001b[0;34m:\u001b[0m\u001b[0;34m\u001b[0m\u001b[0m\n",
      "\u001b[0;31mNameError\u001b[0m: name 'test_features' is not defined"
     ]
    }
   ],
   "source": [
    "correct = 0\n",
    "for i in range(len(test_features)):\n",
    "    sample = neg_features[i]\n",
    "    prediction = classify(sample, mu_0, mu_1, sigma)\n",
    "    if prediction == test_labels[i]:\n",
    "        correct += 1\n",
    "    #print(\"Prediction: \", prediction)\n",
    "    #print(\"Label: \", int(test_labels[i]))\n",
    "    #print()\n",
    "print(\"Test Accuracy: \", round(correct / len(test_features) * 100, 2))"
   ]
  },
  {
   "cell_type": "code",
   "execution_count": 33,
   "metadata": {},
   "outputs": [],
   "source": [
    "folds, labels = k_fold(pos_features, neg_features, 10)"
   ]
  },
  {
   "cell_type": "markdown",
   "metadata": {},
   "source": []
  },
  {
   "cell_type": "code",
   "execution_count": null,
   "metadata": {},
   "outputs": [],
   "source": [
    "Features:\n",
    "    \n",
    "We used two functions applied to all three color channels to get six features. The first function is simply the standard deviation over all pixels. The second function is the mean of the five darkest pixels of the corresponding color channel."
   ]
  },
  {
   "cell_type": "code",
   "execution_count": null,
   "metadata": {},
   "outputs": [],
   "source": []
  }
 ],
 "metadata": {
  "kernelspec": {
   "display_name": "Python 3",
   "language": "python",
   "name": "python3"
  },
  "language_info": {
   "codemirror_mode": {
    "name": "ipython",
    "version": 3
   },
   "file_extension": ".py",
   "mimetype": "text/x-python",
   "name": "python",
   "nbconvert_exporter": "python",
   "pygments_lexer": "ipython3",
   "version": "3.6.4"
  }
 },
 "nbformat": 4,
 "nbformat_minor": 2
}
