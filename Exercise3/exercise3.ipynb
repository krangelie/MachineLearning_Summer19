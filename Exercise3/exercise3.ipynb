{
 "cells": [
  {
   "cell_type": "markdown",
   "metadata": {},
   "source": [
    "# Exercise 3\n",
    "### Anton Wiehe & Angelie Kraftelie"
   ]
  },
  {
   "cell_type": "code",
   "execution_count": 343,
   "metadata": {},
   "outputs": [],
   "source": [
    "from PIL import Image\n",
    "import numpy as np\n",
    "import matplotlib.pyplot as plt\n",
    "\n",
    "# Test image\n",
    "im_frame = Image.open(\"positives/\" + 'p01.png')\n",
    "np_frame = np.array(im_frame.getdata())\n",
    "\n",
    "# Load images (30, 573, 3) == (num_images, num_pixels, rgb)\n",
    "n = 30\n",
    "positives = np.zeros((n, 576, 3))\n",
    "for i in range(n):\n",
    "    im_frame = Image.open(\"positives/\" + 'p' + ('0' if (i+1) < 10 else '') + str(i + 1) + '.png')\n",
    "    positives[i] = np.array(im_frame.getdata())\n",
    "    \n",
    "negatives = np.zeros((n, 576, 3))\n",
    "for i in range(n):\n",
    "    im_frame = Image.open(\"negatives/\" + 'n' + ('0' if (i+1) < 10 else '') + str(i + 1) + '.png')\n",
    "    negatives[i] = np.array(im_frame.getdata())"
   ]
  },
  {
   "cell_type": "code",
   "execution_count": null,
   "metadata": {},
   "outputs": [],
   "source": []
  },
  {
   "cell_type": "code",
   "execution_count": 344,
   "metadata": {},
   "outputs": [
    {
     "data": {
      "image/png": "[encoded data removed]",
      "text/plain": [
       "<matplotlib.figure.Figure at 0x7fdcf0a15320>"
      ]
     },
     "metadata": {},
     "output_type": "display_data"
    }
   ],
   "source": [
    "red_pos = positives[:, :, 0]\n",
    "green_pos = positives[:, :, 1]\n",
    "blue_pos = positives[:, :, 2]\n",
    "\n",
    "red_mean_pos = np.mean(red_pos, axis=1)\n",
    "blue_mean_pos = np.mean(green_pos, axis=1)\n",
    "green_mean_pos = np.mean(blue_pos, axis=1)\n",
    "\n",
    "plt.hist(red_mean_pos, color=\"red\")\n",
    "plt.hist(blue_mean_pos, color=\"blue\")\n",
    "plt.hist(green_mean_pos, color=\"green\")\n",
    "plt.title(\"R/G/B mean value distribution for positive examples\")\n",
    "plt.show()\n"
   ]
  },
  {
   "cell_type": "code",
   "execution_count": 345,
   "metadata": {},
   "outputs": [
    {
     "data": {
      "image/png": "[encoded data removed]",
      "text/plain": [
       "<matplotlib.figure.Figure at 0x7fdcf0a15198>"
      ]
     },
     "metadata": {},
     "output_type": "display_data"
    }
   ],
   "source": [
    "red_neg = negatives[:, :, 0]\n",
    "green_neg = negatives[:, :, 1]\n",
    "blue_neg = negatives[:, :, 2]\n",
    "\n",
    "red_mean_neg = np.mean(red_neg, axis=1)\n",
    "blue_mean_neg = np.mean(green_neg, axis=1)\n",
    "green_mean_neg = np.mean(blue_neg, axis=1)\n",
    "\n",
    "plt.hist(red_mean_neg, color=\"red\")\n",
    "plt.hist(blue_mean_neg, color=\"blue\")\n",
    "plt.hist(green_mean_neg, color=\"green\")\n",
    "plt.title(\"R/G/B mean value distribution for negative examples\")\n",
    "plt.show()"
   ]
  },
  {
   "cell_type": "code",
   "execution_count": 346,
   "metadata": {},
   "outputs": [
    {
     "data": {
      "image/png": "[encoded data removed]",
      "text/plain": [
       "<matplotlib.figure.Figure at 0x7fdcf09eb9e8>"
      ]
     },
     "metadata": {},
     "output_type": "display_data"
    }
   ],
   "source": [
    "red_std_pos = np.std(red_pos, axis=1)\n",
    "blue_std_pos = np.std(green_pos, axis=1)\n",
    "green_std_pos = np.std(blue_pos, axis=1)\n",
    "\n",
    "plt.hist(red_std_pos, color=\"red\")\n",
    "plt.hist(blue_std_pos, color=\"blue\")\n",
    "plt.hist(green_std_pos, color=\"green\")\n",
    "plt.title(\"R/G/B std value distribution for positive examples\")\n",
    "plt.show()"
   ]
  },
  {
   "cell_type": "code",
   "execution_count": 347,
   "metadata": {},
   "outputs": [
    {
     "data": {
      "image/png": "[encoded data removed]",
      "text/plain": [
       "<matplotlib.figure.Figure at 0x7fdcf0790b00>"
      ]
     },
     "metadata": {},
     "output_type": "display_data"
    }
   ],
   "source": [
    "red_std_neg = np.std(red_neg, axis=1)\n",
    "blue_std_neg = np.std(green_neg, axis=1)\n",
    "green_std_neg = np.std(blue_neg, axis=1)\n",
    "\n",
    "plt.hist(red_std_neg, color=\"red\")\n",
    "plt.hist(blue_std_neg, color=\"blue\")\n",
    "plt.hist(green_std_neg, color=\"green\")\n",
    "plt.title(\"R/G/B std value distribution for negative examples\")\n",
    "plt.show()"
   ]
  },
  {
   "cell_type": "code",
   "execution_count": 348,
   "metadata": {},
   "outputs": [
    {
     "data": {
      "text/plain": [
       "(30, 6)"
      ]
     },
     "execution_count": 348,
     "metadata": {},
     "output_type": "execute_result"
    }
   ],
   "source": [
    "pos_features = np.concatenate([np.reshape(red_mean_pos, (n, 1)), np.reshape(green_mean_pos, (30, 1)),\n",
    "                              np.reshape(blue_mean_pos, (n, 1)), np.reshape(red_std_pos, (30, 1)),\n",
    "                              np.reshape(blue_std_pos, (n, 1)), np.reshape(green_std_pos, (30, 1))], axis=1)\n",
    "neg_features = np.concatenate([np.reshape(red_mean_neg, (n, 1)), np.reshape(green_mean_neg, (30, 1)),\n",
    "                              np.reshape(blue_mean_neg, (n, 1)), np.reshape(red_std_neg, (30, 1)),\n",
    "                              np.reshape(blue_std_neg, (n, 1)), np.reshape(green_std_neg, (30, 1))], axis=1)\n",
    "num_features = np.shape(pos_features)[1]\n",
    "np.shape(pos_features)"
   ]
  },
  {
   "cell_type": "code",
   "execution_count": 349,
   "metadata": {},
   "outputs": [],
   "source": [
    "def split_test_train(features_0, features_1):\n",
    "    test_split_percentage = 0.05\n",
    "    number_of_tests = int(n * 2 * 0.1)\n",
    "\n",
    "    test_idxs = np.random.randint(0, n * 2, number_of_tests)\n",
    "    both = np.concatenate((features_0, features_1), axis=0)\n",
    "    test_features = both[test_idxs,:]\n",
    "    test_labels = (test_idxs >= 30)\n",
    "\n",
    "    #print(\"Test idxs: \", test_idxs)\n",
    "    idxs_0 = test_idxs[test_idxs < n]\n",
    "    idxs_1 = test_idxs[test_idxs >= n] - n\n",
    "\n",
    "    features_0 = np.delete(features_0, idxs_0, axis=0)\n",
    "    features_1 = np.delete(features_1, idxs_1, axis=0)\n",
    "    \n",
    "    return features_0, features_1, test_features, test_labels"
   ]
  },
  {
   "cell_type": "code",
   "execution_count": null,
   "metadata": {},
   "outputs": [],
   "source": [
    "# Shuffle two lists in same order\n",
    "def shuffle(a,b):\n",
    "    assert len(a) == len(b)\n",
    "    idxs = np.arange(0, len(a), 1)\n",
    "    np.random.shuffle(idxs)\n",
    "    return a[idxs], b[idxs]"
   ]
  },
  {
   "cell_type": "code",
   "execution_count": null,
   "metadata": {},
   "outputs": [],
   "source": [
    "def k_fold(features_0, features_1, k=10):\n",
    "    split_percentage = 1 / k\n",
    "    samples_per_split = (len(features_0) + len(features_1)) // k\n",
    "    both_features = np.concatenate((features_0, features_1), axis=0)\n",
    "    both_labels = np.concatenate((np.zeros(len(features_0)), np.ones(len(features_1)), axis=0)) \n",
    "    splits = []\n",
    "    splits_labels = []\n",
    "    for i in len(splits):\n",
    "        if i == len(splits - 1):\n",
    "            split_idxs = np.arange(0, len(both_features))\n",
    "        else:\n",
    "            split_idxs = np.random.randint(0, len(both_features), samples_per_split)\n",
    "        split_labels = both_labels[split_idxs]\n",
    "        split = both_features[split_idxs]\n",
    "\n",
    "        splits.append(split)\n",
    "        splits_labels.append(split_labels)\n",
    "\n",
    "        both_labels = np.delete(both_labels, split_idxs, axis=0)\n",
    "        both_features = np.delete(both_features, split_idxs, axis=0)\n",
    "\n",
    "    return splits, split_labels\n",
    "    "
   ]
  },
  {
   "cell_type": "code",
   "execution_count": null,
   "metadata": {},
   "outputs": [],
   "source": [
    "def evaluate_k_fold(splits, split_labels):\n",
    "    train_accuracies = np.zeros(len(splits))\n",
    "    test_accuracies = np.zeros(len(splits))\n",
    "    \n",
    "    for i in range(len(splits)):\n",
    "        features = np.concatenate((splits[0:i], splits[i + 1:]))\n",
    "        labels = np.concatenate((split_labels[0:i], split_labels[i + 1:]))\n",
    "        test_features = splits[i]\n",
    "        features_0 = features[labels == 0]\n",
    "        features_1 = features[labels == 1]\n",
    "        \n",
    "        phi, mu_0, mu_1, sigma = calculate_parameters(features_0, features_1)"
   ]
  },
  {
   "cell_type": "code",
   "execution_count": 350,
   "metadata": {},
   "outputs": [],
   "source": [
    "# Calculate Parameters:\n",
    "def calculate_parameters(features_0, features_1):\n",
    "    phi = len(features_0) / (len(features_0) + len(features_1))\n",
    "    mu_0 = np.mean(pos_features, axis=0)\n",
    "    mu_1 = np.mean(neg_features, axis=0)\n",
    "    #temp_0 = (pos_features - mu_0) @ (pos_features - mu_0)\n",
    "    temp_0 = np.array([np.reshape((feature_vec - mu_0), (num_features, 1)) @ np.reshape(feature_vec - mu_0, (1, num_features)) for feature_vec in pos_features])\n",
    "    #print(np.shape(temp_0))\n",
    "    #temp_1 = (neg_features - mu_1) @ (neg_features - mu_1)\n",
    "    temp_1 = np.array([np.reshape((feature_vec - mu_1), (num_features, 1)) @ np.reshape(feature_vec - mu_1, (1, num_features)) for feature_vec in neg_features])\n",
    "\n",
    "    sigma = np.mean(np.concatenate([temp_0, temp_1], axis=0), axis=0)\n",
    "    \n",
    "    return phi, mu_0, mu_1, sigma"
   ]
  },
  {
   "cell_type": "code",
   "execution_count": 351,
   "metadata": {},
   "outputs": [],
   "source": [
    "#print(sigma)\n",
    "#print(np.shape(np.concatenate([temp_0, temp_1])))\n",
    "#print(np.shape(sigma))\n"
   ]
  },
  {
   "cell_type": "code",
   "execution_count": 352,
   "metadata": {},
   "outputs": [],
   "source": [
    "def likelihood(x, mu, sigma):\n",
    "    n_umberOfFeatures = len(mu_0)\n",
    "    n = n_umberOfFeatures\n",
    "    denominator = 1 / ((2 * np.pi) ** (n / 2) * np.linalg.det(sigma) ** (1/2))\n",
    "    #print(\"Denominator: \", denominator)\n",
    "    nominator = np.exp(-(1/2) * np.transpose(x - mu) @ np.linalg.inv(sigma) @ (x - mu))\n",
    "    #print(\"Nominator: \", nominator)\n",
    "    return nominator / denominator"
   ]
  },
  {
   "cell_type": "code",
   "execution_count": 367,
   "metadata": {},
   "outputs": [],
   "source": [
    "def classify(x, phi, mu_0, mu_1, sigma):\n",
    "    prob_0 = likelihood(x, mu_0, sigma) * phi\n",
    "    prob_1 = likelihood(x, mu_1, sigma) * (1 - phi)\n",
    "    \n",
    "    #print(\"Prob 0: \", prob_0)\n",
    "    #print(\"Prob 1: \", prob_1)\n",
    "    #print(\"Ratio:\", prob_0 / prob_1)\n",
    "    \n",
    "    if prob_0 > prob_1:\n",
    "        #print(\"Predicted: 0 - positive\")\n",
    "        return 0\n",
    "    else:\n",
    "        #print(\"Predicted: 1 - negative\")\n",
    "        return 1"
   ]
  },
  {
   "cell_type": "code",
   "execution_count": null,
   "metadata": {},
   "outputs": [],
   "source": [
    "def train_and_test(features_0, features_1, test_split_percentage):\n",
    "    \n",
    "    phi, mu_0, mu_1, sigma = calculate_parameters(features_0, features_1)\n",
    "    "
   ]
  },
  {
   "cell_type": "code",
   "execution_count": 368,
   "metadata": {},
   "outputs": [
    {
     "name": "stdout",
     "output_type": "stream",
     "text": [
      "Wrong idx:  35\n",
      "\n",
      "Training Accuracy:  98.33\n"
     ]
    }
   ],
   "source": [
    "sample = pos_features[0]\n",
    "neg_sample = neg_features[0]\n",
    "\n",
    "correct = 0\n",
    "for i in range(len(both)):\n",
    "    sample = both[i]\n",
    "    prediction = classify(sample, mu_0, mu_1, sigma)\n",
    "    if prediction == 0 and i < 30 or prediction == 1 and i >= 30:\n",
    "        correct += 1\n",
    "        #print(\"Correct!\")\n",
    "        #print()\n",
    "    else:\n",
    "        #print(\"Wrong\")\n",
    "        print(\"Wrong idx: \", i)\n",
    "        print()\n",
    "print(\"Training Accuracy: \", round(correct / len(both) * 100, 2))"
   ]
  },
  {
   "cell_type": "code",
   "execution_count": 369,
   "metadata": {},
   "outputs": [
    {
     "name": "stdout",
     "output_type": "stream",
     "text": [
      "Test Accuracy:  66.67\n"
     ]
    }
   ],
   "source": [
    "correct = 0\n",
    "for i in range(len(test_features)):\n",
    "    sample = neg_features[i]\n",
    "    prediction = classify(sample, mu_0, mu_1, sigma)\n",
    "    if prediction == test_labels[i]:\n",
    "        correct += 1\n",
    "    #print(\"Prediction: \", prediction)\n",
    "    #print(\"Label: \", int(test_labels[i]))\n",
    "    #print()\n",
    "print(\"Test Accuracy: \", round(correct / len(test_features) * 100, 2))"
   ]
  },
  {
   "cell_type": "code",
   "execution_count": null,
   "metadata": {},
   "outputs": [],
   "source": []
  },
  {
   "cell_type": "code",
   "execution_count": null,
   "metadata": {},
   "outputs": [],
   "source": []
  },
  {
   "cell_type": "code",
   "execution_count": null,
   "metadata": {},
   "outputs": [],
   "source": []
  }
 ],
 "metadata": {
  "kernelspec": {
   "display_name": "Python 3",
   "language": "python",
   "name": "python3"
  },
  "language_info": {
   "codemirror_mode": {
    "name": "ipython",
    "version": 3
   },
   "file_extension": ".py",
   "mimetype": "text/x-python",
   "name": "python",
   "nbconvert_exporter": "python",
   "pygments_lexer": "ipython3",
   "version": "3.6.4"
  }
 },
 "nbformat": 4,
 "nbformat_minor": 2
}
