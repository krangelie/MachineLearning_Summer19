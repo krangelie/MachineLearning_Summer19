{
 "cells": [
  {
   "cell_type": "markdown",
   "metadata": {},
   "source": [
    "# Exercise 3\n",
    "### Anton Wiehe & Angelie Kraft"
   ]
  },
  {
   "cell_type": "code",
   "execution_count": 2,
   "metadata": {},
   "outputs": [
    {
     "name": "stdout",
     "output_type": "stream",
     "text": [
      "576\n"
     ]
    }
   ],
   "source": [
    "from PIL import Image\n",
    "import numpy as np\n",
    "import matplotlib.pyplot as plt\n",
    "\n",
    "# Test image\n",
    "im_frame = Image.open(\"positives/\" + 'p01.png')\n",
    "np_frame = np.array(im_frame.getdata())\n",
    "print(len(np_frame))\n",
    "\n",
    "# Load images (30, 573, 3) == (num_images, num_pixels, rgb)\n",
    "positives = np.zeros((30, 576, 3))\n",
    "for i in range(30):\n",
    "    im_frame = Image.open(\"positives/\" + 'p' + ('0' if (i+1) < 10 else '') + str(i + 1) + '.png')\n",
    "    positives[i] = np.array(im_frame.getdata())\n",
    "    \n",
    "negatives = np.zeros((30, 576, 3))\n",
    "for i in range(30):\n",
    "    im_frame = Image.open(\"negatives/\" + 'n' + ('0' if (i+1) < 10 else '') + str(i + 1) + '.png')\n",
    "    negatives[i] = np.array(im_frame.getdata())\n",
    "    "
   ]
  },
  {
   "cell_type": "code",
   "execution_count": 15,
   "metadata": {},
   "outputs": [],
   "source": [
    "# get means of RGB values for each image: one tuple of three values per image\n",
    "def get_RGB_means(images):\n",
    "    means = np.zeros((30,3))\n",
    "    for i,img in enumerate(images):\n",
    "        means[i] = np.mean(img, axis=0)\n",
    "    return means"
   ]
  },
  {
   "cell_type": "code",
   "execution_count": 16,
   "metadata": {},
   "outputs": [],
   "source": [
    "RGB_means_pos = get_RGB_means(positives)\n",
    "RGB_means_neg = get_RGB_means(negatives)"
   ]
  },
  {
   "cell_type": "code",
   "execution_count": 27,
   "metadata": {},
   "outputs": [
    {
     "data": {
      "text/plain": [
       "([array([0., 1., 1., 6., 9., 6., 4., 2., 1., 0.]),\n",
       "  array([0., 0., 0., 0., 2., 4., 8., 8., 4., 4.]),\n",
       "  array([15.,  6.,  6.,  3.,  0.,  0.,  0.,  0.,  0.,  0.])],\n",
       " array([ 6.93501769,  9.42235523, 11.90969276, 14.3970303 , 16.88436783,\n",
       "        19.37170537, 21.85904291, 24.34638044, 26.83371798, 29.32105552,\n",
       "        31.80839305]),\n",
       " <a list of 3 Lists of Patches objects>)"
      ]
     },
     "execution_count": 27,
     "metadata": {},
     "output_type": "execute_result"
    },
    {
     "data": {
      "image/png": "[encoded data removed]",
      "text/plain": [
       "<Figure size 432x288 with 1 Axes>"
      ]
     },
     "metadata": {
      "needs_background": "light"
     },
     "output_type": "display_data"
    }
   ],
   "source": [
    "plt.hist(RGB_stds_pos)"
   ]
  },
  {
   "cell_type": "code",
   "execution_count": 26,
   "metadata": {},
   "outputs": [
    {
     "data": {
      "text/plain": [
       "([array([11.,  3.,  9.,  2.,  3.,  1.,  1.,  0.,  0.,  0.]),\n",
       "  array([7., 8., 6., 2., 2., 2., 2., 0., 0., 1.]),\n",
       "  array([ 9., 10.,  6.,  1.,  2.,  2.,  0.,  0.,  0.,  0.])],\n",
       " array([ 4.77345447,  6.78713262,  8.80081077, 10.81448892, 12.82816708,\n",
       "        14.84184523, 16.85552338, 18.86920153, 20.88287968, 22.89655783,\n",
       "        24.91023598]),\n",
       " <a list of 3 Lists of Patches objects>)"
      ]
     },
     "execution_count": 26,
     "metadata": {},
     "output_type": "execute_result"
    },
    {
     "data": {
      "image/png": "[encoded data removed]",
      "text/plain": [
       "<Figure size 432x288 with 1 Axes>"
      ]
     },
     "metadata": {
      "needs_background": "light"
     },
     "output_type": "display_data"
    }
   ],
   "source": [
    "plt.hist(RGB_stds_neg)"
   ]
  },
  {
   "cell_type": "code",
   "execution_count": 32,
   "metadata": {},
   "outputs": [],
   "source": [
    "RGB_overall_means_pos = np.mean(RGB_means_pos, axis=1)\n",
    "RGB_overall_means_neg = np.mean(RGB_means_neg, axis=1)"
   ]
  },
  {
   "cell_type": "code",
   "execution_count": 33,
   "metadata": {},
   "outputs": [
    {
     "data": {
      "text/plain": [
       "array([121.66493056, 131.75868056, 115.63657407, 145.50115741,\n",
       "       147.31423611, 137.17881944, 131.77372685, 162.9068287 ,\n",
       "       153.06597222, 141.48611111, 162.4537037 , 137.41956019,\n",
       "       125.13252315, 170.23321759, 125.22337963, 146.71238426,\n",
       "       134.10358796, 136.96469907, 129.76793981, 139.33796296,\n",
       "       121.18634259, 116.16550926, 162.94791667, 136.44791667,\n",
       "       129.54803241, 138.4681713 , 132.69733796, 117.52662037,\n",
       "       154.89467593, 173.30671296])"
      ]
     },
     "execution_count": 33,
     "metadata": {},
     "output_type": "execute_result"
    }
   ],
   "source": [
    "RGB_overall_means_neg"
   ]
  },
  {
   "cell_type": "code",
   "execution_count": 34,
   "metadata": {},
   "outputs": [],
   "source": [
    "def get_RGB_stds(images):\n",
    "    stds = np.zeros((30,3))\n",
    "    for i,img in enumerate(images):\n",
    "        stds[i] = np.std(img, axis=0)\n",
    "    return stds"
   ]
  },
  {
   "cell_type": "code",
   "execution_count": 35,
   "metadata": {},
   "outputs": [],
   "source": [
    "RGB_stds_pos = get_RGB_stds(positives)\n",
    "RGB_stds_neg = get_RGB_stds(negatives)"
   ]
  },
  {
   "cell_type": "code",
   "execution_count": 36,
   "metadata": {},
   "outputs": [
    {
     "data": {
      "text/plain": [
       "([array([0., 1., 1., 6., 9., 6., 4., 2., 1., 0.]),\n",
       "  array([0., 0., 0., 0., 2., 4., 8., 8., 4., 4.]),\n",
       "  array([15.,  6.,  6.,  3.,  0.,  0.,  0.,  0.,  0.,  0.])],\n",
       " array([ 6.93501769,  9.42235523, 11.90969276, 14.3970303 , 16.88436783,\n",
       "        19.37170537, 21.85904291, 24.34638044, 26.83371798, 29.32105552,\n",
       "        31.80839305]),\n",
       " <a list of 3 Lists of Patches objects>)"
      ]
     },
     "execution_count": 36,
     "metadata": {},
     "output_type": "execute_result"
    },
    {
     "data": {
      "image/png": "[encoded data removed]",
      "text/plain": [
       "<Figure size 432x288 with 1 Axes>"
      ]
     },
     "metadata": {
      "needs_background": "light"
     },
     "output_type": "display_data"
    }
   ],
   "source": [
    "plt.hist(RGB_stds_pos)"
   ]
  },
  {
   "cell_type": "code",
   "execution_count": 37,
   "metadata": {},
   "outputs": [
    {
     "data": {
      "text/plain": [
       "([array([11.,  3.,  9.,  2.,  3.,  1.,  1.,  0.,  0.,  0.]),\n",
       "  array([7., 8., 6., 2., 2., 2., 2., 0., 0., 1.]),\n",
       "  array([ 9., 10.,  6.,  1.,  2.,  2.,  0.,  0.,  0.,  0.])],\n",
       " array([ 4.77345447,  6.78713262,  8.80081077, 10.81448892, 12.82816708,\n",
       "        14.84184523, 16.85552338, 18.86920153, 20.88287968, 22.89655783,\n",
       "        24.91023598]),\n",
       " <a list of 3 Lists of Patches objects>)"
      ]
     },
     "execution_count": 37,
     "metadata": {},
     "output_type": "execute_result"
    },
    {
     "data": {
      "image/png": "[encoded data removed]",
      "text/plain": [
       "<Figure size 432x288 with 1 Axes>"
      ]
     },
     "metadata": {
      "needs_background": "light"
     },
     "output_type": "display_data"
    }
   ],
   "source": [
    "plt.hist(RGB_stds_neg)"
   ]
  },
  {
   "cell_type": "code",
   "execution_count": 38,
   "metadata": {},
   "outputs": [],
   "source": [
    "# We now have sample images (positive and negative) represented by 7-tuples:\n",
    "# [mean R, mean G, mean B, mean of RGB means, std of R, std of G, std of B]\n",
    "samples_pos = np.column_stack((RGB_means_pos,RGB_overall_means_pos,RGB_stds_pos))\n",
    "samples_neg = np.column_stack((RGB_means_neg,RGB_overall_means_neg,RGB_stds_neg))"
   ]
  },
  {
   "cell_type": "code",
   "execution_count": 39,
   "metadata": {},
   "outputs": [],
   "source": [
    "def calc_mu(samples):\n",
    "    return np.sum(samples, axis=0) / len(samples)\n",
    "\n",
    "mu_pos = calc_mu(samples_pos)\n",
    "mu_neg = calc_mu(samples_neg)"
   ]
  },
  {
   "cell_type": "code",
   "execution_count": 47,
   "metadata": {},
   "outputs": [
    {
     "name": "stdout",
     "output_type": "stream",
     "text": [
      "Pos: [176.17256944 139.52424769 142.91741898 152.87141204  19.38541321\n",
      "  24.84986984  10.50157667] \n",
      "\n",
      "Neg: [163.71302083 126.82800926 127.34149306 139.29417438   9.15690078\n",
      "   9.9563192    8.52678672]\n"
     ]
    }
   ],
   "source": [
    "print(\"Pos:\", mu_pos, \"\\n\\nNeg:\", mu_neg)"
   ]
  },
  {
   "cell_type": "code",
   "execution_count": 48,
   "metadata": {},
   "outputs": [],
   "source": [
    "def calc_Sigma(samples):\n",
    "    diff = np.array([x - mu_pos for x in samples])\n",
    "    Sigma = []\n",
    "    for i,feature in enumerate(diff.T):\n",
    "        Sigma.append(feature @ diff.T[i]/len(diff))\n",
    "    return diff, Sigma\n",
    "\n",
    "diff_pos,Sigma_pos = calc_Sigma(samples_pos)\n",
    "diff_neg,Sigma_neg = calc_Sigma(samples_neg)"
   ]
  },
  {
   "cell_type": "code",
   "execution_count": 49,
   "metadata": {},
   "outputs": [
    {
     "ename": "LinAlgError",
     "evalue": "1-dimensional array given. Array must be at least two-dimensional",
     "output_type": "error",
     "traceback": [
      "\u001b[0;31m---------------------------------------------------------------------------\u001b[0m",
      "\u001b[0;31mLinAlgError\u001b[0m                               Traceback (most recent call last)",
      "\u001b[0;32m<ipython-input-49-0015efd2f118>\u001b[0m in \u001b[0;36m<module>\u001b[0;34m\u001b[0m\n\u001b[0;32m----> 1\u001b[0;31m \u001b[0mp_x_pos\u001b[0m \u001b[0;34m=\u001b[0m \u001b[0;34m(\u001b[0m\u001b[0;36m1\u001b[0m\u001b[0;34m/\u001b[0m\u001b[0;34m(\u001b[0m\u001b[0;34m(\u001b[0m\u001b[0;36m2\u001b[0m\u001b[0;34m*\u001b[0m\u001b[0mnp\u001b[0m\u001b[0;34m.\u001b[0m\u001b[0mpi\u001b[0m\u001b[0;34m)\u001b[0m\u001b[0;34m**\u001b[0m\u001b[0;34m(\u001b[0m\u001b[0;36m7\u001b[0m\u001b[0;34m/\u001b[0m\u001b[0;36m2\u001b[0m\u001b[0;34m)\u001b[0m\u001b[0;34m)\u001b[0m\u001b[0;34m*\u001b[0m\u001b[0mnp\u001b[0m\u001b[0;34m.\u001b[0m\u001b[0msqrt\u001b[0m\u001b[0;34m(\u001b[0m\u001b[0mnp\u001b[0m\u001b[0;34m.\u001b[0m\u001b[0mlinalg\u001b[0m\u001b[0;34m.\u001b[0m\u001b[0mdet\u001b[0m\u001b[0;34m(\u001b[0m\u001b[0mSigma_pos\u001b[0m\u001b[0;34m)\u001b[0m\u001b[0;34m)\u001b[0m\u001b[0;34m)\u001b[0m\u001b[0;34m**\u001b[0m\u001b[0;34m(\u001b[0m\u001b[0mnp\u001b[0m\u001b[0;34m.\u001b[0m\u001b[0mmatmul\u001b[0m\u001b[0;34m(\u001b[0m\u001b[0mdiff_pos\u001b[0m\u001b[0;34m,\u001b[0m \u001b[0mnp\u001b[0m\u001b[0;34m.\u001b[0m\u001b[0mtranspose\u001b[0m\u001b[0;34m(\u001b[0m\u001b[0mdiff_pos\u001b[0m\u001b[0;34m)\u001b[0m\u001b[0;34m)\u001b[0m\u001b[0;34m/\u001b[0m\u001b[0;36m2\u001b[0m\u001b[0;34m*\u001b[0m\u001b[0mSigma_pos\u001b[0m\u001b[0;34m**\u001b[0m\u001b[0;34m(\u001b[0m\u001b[0;34m-\u001b[0m\u001b[0;36m1\u001b[0m\u001b[0;34m)\u001b[0m\u001b[0;34m)\u001b[0m\u001b[0;34m\u001b[0m\u001b[0m\n\u001b[0m",
      "\u001b[0;32m/Library/Frameworks/Python.framework/Versions/3.7/lib/python3.7/site-packages/numpy/linalg/linalg.py\u001b[0m in \u001b[0;36mdet\u001b[0;34m(a)\u001b[0m\n\u001b[1;32m   2016\u001b[0m     \"\"\"\n\u001b[1;32m   2017\u001b[0m     \u001b[0ma\u001b[0m \u001b[0;34m=\u001b[0m \u001b[0masarray\u001b[0m\u001b[0;34m(\u001b[0m\u001b[0ma\u001b[0m\u001b[0;34m)\u001b[0m\u001b[0;34m\u001b[0m\u001b[0m\n\u001b[0;32m-> 2018\u001b[0;31m     \u001b[0m_assertRankAtLeast2\u001b[0m\u001b[0;34m(\u001b[0m\u001b[0ma\u001b[0m\u001b[0;34m)\u001b[0m\u001b[0;34m\u001b[0m\u001b[0m\n\u001b[0m\u001b[1;32m   2019\u001b[0m     \u001b[0m_assertNdSquareness\u001b[0m\u001b[0;34m(\u001b[0m\u001b[0ma\u001b[0m\u001b[0;34m)\u001b[0m\u001b[0;34m\u001b[0m\u001b[0m\n\u001b[1;32m   2020\u001b[0m     \u001b[0mt\u001b[0m\u001b[0;34m,\u001b[0m \u001b[0mresult_t\u001b[0m \u001b[0;34m=\u001b[0m \u001b[0m_commonType\u001b[0m\u001b[0;34m(\u001b[0m\u001b[0ma\u001b[0m\u001b[0;34m)\u001b[0m\u001b[0;34m\u001b[0m\u001b[0m\n",
      "\u001b[0;32m/Library/Frameworks/Python.framework/Versions/3.7/lib/python3.7/site-packages/numpy/linalg/linalg.py\u001b[0m in \u001b[0;36m_assertRankAtLeast2\u001b[0;34m(*arrays)\u001b[0m\n\u001b[1;32m    202\u001b[0m         \u001b[0;32mif\u001b[0m \u001b[0ma\u001b[0m\u001b[0;34m.\u001b[0m\u001b[0mndim\u001b[0m \u001b[0;34m<\u001b[0m \u001b[0;36m2\u001b[0m\u001b[0;34m:\u001b[0m\u001b[0;34m\u001b[0m\u001b[0m\n\u001b[1;32m    203\u001b[0m             raise LinAlgError('%d-dimensional array given. Array must be '\n\u001b[0;32m--> 204\u001b[0;31m                     'at least two-dimensional' % a.ndim)\n\u001b[0m\u001b[1;32m    205\u001b[0m \u001b[0;34m\u001b[0m\u001b[0m\n\u001b[1;32m    206\u001b[0m \u001b[0;32mdef\u001b[0m \u001b[0m_assertSquareness\u001b[0m\u001b[0;34m(\u001b[0m\u001b[0;34m*\u001b[0m\u001b[0marrays\u001b[0m\u001b[0;34m)\u001b[0m\u001b[0;34m:\u001b[0m\u001b[0;34m\u001b[0m\u001b[0m\n",
      "\u001b[0;31mLinAlgError\u001b[0m: 1-dimensional array given. Array must be at least two-dimensional"
     ]
    }
   ],
   "source": [
    "p_x_pos = (1/((2*np.pi)**(7/2))*np.sqrt(np.linalg.det(Sigma_pos)))**(np.matmul(diff_pos, np.transpose(diff_pos))/2*Sigma_pos**(-1))"
   ]
  },
  {
   "cell_type": "code",
   "execution_count": null,
   "metadata": {
    "scrolled": false
   },
   "outputs": [],
   "source": [
    "plt.plot(p_x_pos)"
   ]
  },
  {
   "cell_type": "code",
   "execution_count": null,
   "metadata": {},
   "outputs": [],
   "source": []
  }
 ],
 "metadata": {
  "kernelspec": {
   "display_name": "Python 3",
   "language": "python",
   "name": "python3"
  },
  "language_info": {
   "codemirror_mode": {
    "name": "ipython",
    "version": 3
   },
   "file_extension": ".py",
   "mimetype": "text/x-python",
   "name": "python",
   "nbconvert_exporter": "python",
   "pygments_lexer": "ipython3",
   "version": "3.7.0"
  }
 },
 "nbformat": 4,
 "nbformat_minor": 2
}
