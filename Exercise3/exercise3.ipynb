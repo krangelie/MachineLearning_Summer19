{
 "cells": [
  {
   "cell_type": "markdown",
   "metadata": {},
   "source": [
    "# Exercise 3\n",
    "### Anton Wiehe & Angelie Kraft"
   ]
  },
  {
   "cell_type": "code",
   "execution_count": 332,
   "metadata": {},
   "outputs": [
    {
     "name": "stdout",
     "output_type": "stream",
     "text": [
      "576\n"
     ]
    }
   ],
   "source": [
    "from PIL import Image\n",
    "import numpy as np\n",
    "import matplotlib.pyplot as plt\n",
    "\n",
    "# Test image\n",
    "im_frame = Image.open(\"positives/\" + 'p01.png')\n",
    "np_frame = np.array(im_frame.getdata())\n",
    "print(len(np_frame))\n",
    "\n",
    "# Load images (30, 573, 3) == (num_images, num_pixels, rgb)\n",
    "positives = np.zeros((30, 576, 3))\n",
    "for i in range(30):\n",
    "    im_frame = Image.open(\"positives/\" + 'p' + ('0' if (i+1) < 10 else '') + str(i + 1) + '.png')\n",
    "    positives[i] = np.array(im_frame.getdata())\n",
    "    \n",
    "negatives = np.zeros((30, 576, 3))\n",
    "for i in range(30):\n",
    "    im_frame = Image.open(\"negatives/\" + 'n' + ('0' if (i+1) < 10 else '') + str(i + 1) + '.png')\n",
    "    negatives[i] = np.array(im_frame.getdata())\n",
    "    "
   ]
  },
  {
   "cell_type": "code",
   "execution_count": 333,
   "metadata": {},
   "outputs": [],
   "source": [
    "# get means of RGB values for each image: one tuple of three values per image\n",
    "def get_RGB_means(images):\n",
    "    return np.array([np.mean(img, axis=0) for i,img in enumerate(images)])"
   ]
  },
  {
   "cell_type": "code",
   "execution_count": 334,
   "metadata": {},
   "outputs": [],
   "source": [
    "RGB_means_pos = get_RGB_means(positives)\n",
    "RGB_means_neg = get_RGB_means(negatives)"
   ]
  },
  {
   "cell_type": "code",
   "execution_count": 335,
   "metadata": {},
   "outputs": [],
   "source": [
    "def get_RGB_stds(images):\n",
    "    return np.array([np.std(img, axis=0) for i,img in enumerate(images)])"
   ]
  },
  {
   "cell_type": "code",
   "execution_count": 336,
   "metadata": {},
   "outputs": [],
   "source": [
    "RGB_stds_pos = get_RGB_stds(positives)\n",
    "RGB_stds_neg = get_RGB_stds(negatives)"
   ]
  },
  {
   "cell_type": "code",
   "execution_count": 337,
   "metadata": {},
   "outputs": [
    {
     "data": {
      "text/plain": [
       "([array([0., 1., 1., 6., 9., 6., 4., 2., 1., 0.]),\n",
       "  array([0., 0., 0., 0., 2., 4., 8., 8., 4., 4.]),\n",
       "  array([15.,  6.,  6.,  3.,  0.,  0.,  0.,  0.,  0.,  0.])],\n",
       " array([ 6.93501769,  9.42235523, 11.90969276, 14.3970303 , 16.88436783,\n",
       "        19.37170537, 21.85904291, 24.34638044, 26.83371798, 29.32105552,\n",
       "        31.80839305]),\n",
       " <a list of 3 Lists of Patches objects>)"
      ]
     },
     "execution_count": 337,
     "metadata": {},
     "output_type": "execute_result"
    },
    {
     "data": {
      "image/png": "[encoded data removed]",
      "text/plain": [
       "<Figure size 432x288 with 1 Axes>"
      ]
     },
     "metadata": {
      "needs_background": "light"
     },
     "output_type": "display_data"
    }
   ],
   "source": [
    "plt.hist(RGB_stds_pos)"
   ]
  },
  {
   "cell_type": "code",
   "execution_count": 338,
   "metadata": {},
   "outputs": [
    {
     "data": {
      "text/plain": [
       "([array([11.,  3.,  9.,  2.,  3.,  1.,  1.,  0.,  0.,  0.]),\n",
       "  array([7., 8., 6., 2., 2., 2., 2., 0., 0., 1.]),\n",
       "  array([ 9., 10.,  6.,  1.,  2.,  2.,  0.,  0.,  0.,  0.])],\n",
       " array([ 4.77345447,  6.78713262,  8.80081077, 10.81448892, 12.82816708,\n",
       "        14.84184523, 16.85552338, 18.86920153, 20.88287968, 22.89655783,\n",
       "        24.91023598]),\n",
       " <a list of 3 Lists of Patches objects>)"
      ]
     },
     "execution_count": 338,
     "metadata": {},
     "output_type": "execute_result"
    },
    {
     "data": {
      "image/png": "[encoded data removed]",
      "text/plain": [
       "<Figure size 432x288 with 1 Axes>"
      ]
     },
     "metadata": {
      "needs_background": "light"
     },
     "output_type": "display_data"
    }
   ],
   "source": [
    "plt.hist(RGB_stds_neg)"
   ]
  },
  {
   "cell_type": "code",
   "execution_count": 339,
   "metadata": {},
   "outputs": [
    {
     "data": {
      "text/plain": [
       "([array([0., 1., 1., 6., 9., 6., 4., 2., 1., 0.]),\n",
       "  array([0., 0., 0., 0., 2., 4., 8., 8., 4., 4.]),\n",
       "  array([15.,  6.,  6.,  3.,  0.,  0.,  0.,  0.,  0.,  0.])],\n",
       " array([ 6.93501769,  9.42235523, 11.90969276, 14.3970303 , 16.88436783,\n",
       "        19.37170537, 21.85904291, 24.34638044, 26.83371798, 29.32105552,\n",
       "        31.80839305]),\n",
       " <a list of 3 Lists of Patches objects>)"
      ]
     },
     "execution_count": 339,
     "metadata": {},
     "output_type": "execute_result"
    },
    {
     "data": {
      "image/png": "[encoded data removed]",
      "text/plain": [
       "<Figure size 432x288 with 1 Axes>"
      ]
     },
     "metadata": {
      "needs_background": "light"
     },
     "output_type": "display_data"
    }
   ],
   "source": [
    "plt.hist(RGB_stds_pos)"
   ]
  },
  {
   "cell_type": "code",
   "execution_count": 340,
   "metadata": {},
   "outputs": [
    {
     "data": {
      "text/plain": [
       "([array([11.,  3.,  9.,  2.,  3.,  1.,  1.,  0.,  0.,  0.]),\n",
       "  array([7., 8., 6., 2., 2., 2., 2., 0., 0., 1.]),\n",
       "  array([ 9., 10.,  6.,  1.,  2.,  2.,  0.,  0.,  0.,  0.])],\n",
       " array([ 4.77345447,  6.78713262,  8.80081077, 10.81448892, 12.82816708,\n",
       "        14.84184523, 16.85552338, 18.86920153, 20.88287968, 22.89655783,\n",
       "        24.91023598]),\n",
       " <a list of 3 Lists of Patches objects>)"
      ]
     },
     "execution_count": 340,
     "metadata": {},
     "output_type": "execute_result"
    },
    {
     "data": {
      "image/png": "[encoded data removed]",
      "text/plain": [
       "<Figure size 432x288 with 1 Axes>"
      ]
     },
     "metadata": {
      "needs_background": "light"
     },
     "output_type": "display_data"
    }
   ],
   "source": [
    "plt.hist(RGB_stds_neg)"
   ]
  },
  {
   "cell_type": "code",
   "execution_count": 341,
   "metadata": {},
   "outputs": [],
   "source": [
    "def get_top_five(sample):\n",
    "    red = np.mean(np.sort(sample[:, :, 0], axis=1)[:, :5], axis=1)\n",
    "    green = np.mean(np.sort(sample[:, :, 1], axis=1)[:, :5], axis=1)\n",
    "    blue = np.mean(np.sort(sample[:, :, 2], axis=1)[:, :5], axis=1)\n",
    "    return red, green, blue"
   ]
  },
  {
   "cell_type": "code",
   "execution_count": 342,
   "metadata": {},
   "outputs": [],
   "source": [
    "top_red_pos, top_green_pos, top_blue_pos = get_top_five(positives)\n",
    "\n",
    "top_red_neg, top_green_neg, top_blue_neg = get_top_five(negatives)\n"
   ]
  },
  {
   "cell_type": "code",
   "execution_count": 343,
   "metadata": {},
   "outputs": [],
   "source": [
    "# We now have sample images (positive and negative) represented by 7-tuples:\n",
    "# [mean R, mean G, mean B, mean of RGB means, std of R, std of G, std of B]\n",
    "#samples_pos = np.column_stack((RGB_stds_pos, top_red_pos, top_green_pos, top_blue_pos))\n",
    "#samples_neg = np.column_stack((RGB_stds_neg, top_red_neg, top_green_neg, top_blue_neg))\n",
    "samples_pos = np.column_stack((RGB_stds_pos, RGB_means_pos))\n",
    "samples_neg = np.column_stack((RGB_stds_neg, RGB_means_neg))\n",
    "\n",
    "\n"
   ]
  },
  {
   "cell_type": "code",
   "execution_count": 344,
   "metadata": {},
   "outputs": [],
   "source": [
    "def calc_mu(samples):\n",
    "    return np.sum(samples, axis=0) / len(samples)\n"
   ]
  },
  {
   "cell_type": "code",
   "execution_count": 345,
   "metadata": {},
   "outputs": [],
   "source": [
    "def calc_Sigma(mu_1, mu_2, set_1, set_2):\n",
    "    diff_1 = np.array([x - mu_1 for x in set_1])\n",
    "    diff_2 = np.array([x - mu_2 for x in set_2])\n",
    "    diffs = np.concatenate([diff_1, diff_2], axis=0)\n",
    "\n",
    "    Sigma = np.mean(np.array([diffs[i].reshape(len(diffs[i]),1) @ diffs[i].reshape(1,len(diffs[i])) for i in range(len(diffs))]), axis=0) \n",
    "    \n",
    "    return Sigma\n"
   ]
  },
  {
   "cell_type": "code",
   "execution_count": 346,
   "metadata": {
    "scrolled": true
   },
   "outputs": [],
   "source": [
    "def calc_px_py(x, mu, Sigma):\n",
    "    n = len(mu)\n",
    "    _Sigma_=np.sqrt(np.linalg.det(Sigma)) \n",
    "    exponent = -0.5*(x-mu).T@np.linalg.inv(Sigma)@(x-mu)\n",
    "    return (1/((2*np.pi)**(n/2))*_Sigma_)**exponent\n",
    "\n"
   ]
  },
  {
   "cell_type": "code",
   "execution_count": 347,
   "metadata": {
    "scrolled": false
   },
   "outputs": [],
   "source": [
    "def classify(x, phi, mu_1, mu_2, Sigma):\n",
    "    p_1 = phi * calc_px_py(x, mu_1, Sigma)\n",
    "    p_2 = (1-phi) * calc_px_py(x, mu_2, Sigma)\n",
    "    \n",
    "    if p_1 > p_2:\n",
    "        return 0\n",
    "    else:\n",
    "        return 1\n",
    " \n"
   ]
  },
  {
   "cell_type": "code",
   "execution_count": 348,
   "metadata": {},
   "outputs": [],
   "source": [
    "def split_data(no_of_tests, set_1, set_2):\n",
    "    \n",
    "    all_samples = np.concatenate((set_1, set_2), axis=0)\n",
    "    \n",
    "    n =  len(set_1)\n",
    "    \n",
    "    test_idxs = np.random.randint(0, n * 2, no_of_tests)\n",
    "    \n",
    "    test_features = all_samples[test_idxs,:]\n",
    "    test_labels = (test_idxs >= 30)\n",
    "    \n",
    "    idxs_neg = test_idxs[test_idxs < n]\n",
    "    idxs_pos = test_idxs[test_idxs >= n] - n\n",
    "\n",
    "    train_1 = np.delete(set_1, idxs_neg, axis=0)\n",
    "    train_2 = np.delete(set_2, idxs_pos, axis=0)\n",
    "    \n",
    "    return train_1, train_2, test_features, test_labels"
   ]
  },
  {
   "cell_type": "code",
   "execution_count": 349,
   "metadata": {},
   "outputs": [],
   "source": [
    "def calc_params(set_1, set_2):\n",
    "    mu_1 = calc_mu(set_1)\n",
    "    mu_2 = calc_mu(set_2)\n",
    "    phi = 0.5\n",
    "    Sigma = calc_Sigma(mu_1, mu_2, set_1, set_2)\n",
    "    return mu_1, mu_2, phi, Sigma"
   ]
  },
  {
   "cell_type": "code",
   "execution_count": 350,
   "metadata": {},
   "outputs": [],
   "source": [
    "def train_and_test(no_of_tests):\n",
    "    train_neg, train_pos, test_features, test_labels = split_data(no_of_tests, samples_neg, samples_pos)\n",
    "    mu_neg, mu_pos, phi, Sigma = calc_params(train_neg, train_pos)\n",
    "    correct = 0\n",
    "    for i in range(no_of_tests):\n",
    "        correct += test_labels[i] == classify(test_features[i], phi, mu_neg, mu_pos, Sigma)\n",
    "    print(\"Accuracy = \", correct/no_of_tests)\n",
    "    \n",
    "    "
   ]
  },
  {
   "cell_type": "code",
   "execution_count": 351,
   "metadata": {},
   "outputs": [
    {
     "name": "stdout",
     "output_type": "stream",
     "text": [
      "Accuracy =  0.95\n"
     ]
    }
   ],
   "source": [
    "train_and_test(20)"
   ]
  }
 ],
 "metadata": {
  "kernelspec": {
   "display_name": "Python 3",
   "language": "python",
   "name": "python3"
  },
  "language_info": {
   "codemirror_mode": {
    "name": "ipython",
    "version": 3
   },
   "file_extension": ".py",
   "mimetype": "text/x-python",
   "name": "python",
   "nbconvert_exporter": "python",
   "pygments_lexer": "ipython3",
   "version": "3.7.0"
  }
 },
 "nbformat": 4,
 "nbformat_minor": 2
}
