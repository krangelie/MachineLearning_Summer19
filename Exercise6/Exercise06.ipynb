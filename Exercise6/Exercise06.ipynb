{
 "cells": [
  {
   "cell_type": "markdown",
   "metadata": {},
   "source": [
    "# Exercise 6\n",
    "## Solution by Anton Wiehe & Angelie Kraft"
   ]
  },
  {
   "cell_type": "code",
   "execution_count": null,
   "metadata": {},
   "outputs": [],
   "source": [
    "%matplotlib notebook\n",
    "import numpy as np\n",
    "import time\n",
    "import matplotlib.pyplot as plt\n",
    "import scipy.stats as st\n",
    "import sys"
   ]
  },
  {
   "cell_type": "code",
   "execution_count": null,
   "metadata": {},
   "outputs": [],
   "source": [
    "gaussian_a = np.random.multivariate_normal([0, -2], [[1, 0], \n",
    "                                                    [0, 1]], 100)\n",
    "\n",
    "gaussian_b = np.random.multivariate_normal([0, 3], [[2, 0], \n",
    "                                                    [3, 2]], 100)\n",
    "\n",
    "gaussian_c = np.random.multivariate_normal([7, 0], [[2, 0], \n",
    "                                                    [1, 3]], 100)\n",
    "\n",
    "plt.scatter(gaussian_a[:, 0], gaussian_a[:, 1], color='blue')\n",
    "plt.scatter(gaussian_b[:, 0], gaussian_b[:, 1], color='green')\n",
    "plt.scatter(gaussian_c[:, 0], gaussian_c[:, 1], color='red')\n",
    "plt.show()"
   ]
  },
  {
   "cell_type": "code",
   "execution_count": null,
   "metadata": {},
   "outputs": [],
   "source": [
    "data = np.concatenate([gaussian_a, gaussian_b, gaussian_c], axis=0)\n",
    "data.shape"
   ]
  },
  {
   "cell_type": "code",
   "execution_count": null,
   "metadata": {},
   "outputs": [],
   "source": [
    "class EM:\n",
    "    def __init__(self, num_gaussians=3):\n",
    "        self.num_gaussians = num_gaussians\n",
    "        self.phis = np.ones(self.num_gaussians) / self.num_gaussians\n",
    "        self.fig = plt.figure()\n",
    "        self.ax = plt.gca()\n",
    "        plt.ion()\n",
    "        self.fig.show()\n",
    "        self.fig.canvas.draw()\n",
    "        \n",
    "        \n",
    "    def fit(self, X, y, steps=10, early_stopping=False):\n",
    "        self.data_dim = len(X[0])\n",
    "        self.m = len(X)\n",
    "        # Initialize mus:\n",
    "        self.mu_idxs = np.random.randint(self.m, size=self.num_gaussians)\n",
    "        self.mus = X[self.mu_idxs]\n",
    "        self.vars = np.ones((self.num_gaussians, self.data_dim)) # use std of every dim to initialize\n",
    "        \n",
    "        for i in range(steps):\n",
    "            self.plot(X)\n",
    "\n",
    "            last_vars = self.vars\n",
    "            \n",
    "            ws, probs = self.e_step(X)\n",
    "            self.m_step(X, ws)\n",
    "            \n",
    "            \n",
    "            log_probs = np.log(probs)\n",
    "            log_llh = np.sum(log_probs) * -1\n",
    "                  \n",
    "            #print(\"vars: \", self.vars)\n",
    "            print(\"Step \", i)\n",
    "            #print(\"diff in vars: \", np.array(self.vars) - np.array(last_vars))\n",
    "            print(\"log_llh: \", log_llh)\n",
    "            print()\n",
    "            if early_stopping and np.sum(np.abs(self.vars - last_vars)) < 0.1:\n",
    "                print(\"Stopped at \", i)\n",
    "                return self\n",
    "            \n",
    "\n",
    "            \n",
    "        print(\"Stopped after \", steps, \" steps.\")    \n",
    "        return self\n",
    "    \n",
    "    def predict(self, X):\n",
    "        return self.e_step(X)\n",
    "    \n",
    "    def plot(self, X):\n",
    "        self.ax.clear()\n",
    "        colors = np.array([(1, 0, 0), (0, 1, 0), (0, 0, 1), (1, 1, 0), (1, 0, 1), (0, 1, 1)])\n",
    "        assignments, probs = self.e_step(X)\n",
    "        assignment_colors = np.zeros((len(X), 3))\n",
    "        x = np.linspace(-6, 11, 50)\n",
    "        y = np.linspace(-6, 8, 50)\n",
    "\n",
    "        X_lin_orig, Y_lin_orig = np.meshgrid(x, y)\n",
    "        X_lin, Y_lin = X_lin_orig.flatten(), Y_lin_orig.flatten()\n",
    "        concat_X_Y = np.stack((X_lin, Y_lin), axis=1)\n",
    "    \n",
    "        Z = np.zeros((self.num_gaussians, 50, 50))\n",
    "        probs = self.get_prob(concat_X_Y)\n",
    "        for i in range(self.num_gaussians):\n",
    "            Z[i] = probs[:, i].reshape((50, 50))\n",
    "\n",
    "        for i in range(self.num_gaussians):\n",
    "            assignment_colors += np.reshape(assignments[:, i], (len(X), 1)) * colors[i]\n",
    "            self.ax.contour(X_lin_orig, Y_lin_orig, Z[i], levels=3)\n",
    "        assignment_colors = np.clip(assignment_colors, 0, 1)\n",
    "        #summed_Z = np.sum(Z, axis=0) \n",
    "        #self.ax.contour(X_lin_orig, Y_lin_orig, summed_Z, levels=5)\n",
    "        self.ax.scatter(X[:, 0], X[:, 1], color=assignment_colors)\n",
    "        self.fig.canvas.draw()      \n",
    "        plt.pause(0.01)\n",
    "            \n",
    "\n",
    "    def e_step(self, data):\n",
    "        ws = np.zeros((len(data), self.num_gaussians))\n",
    "        ps = np.zeros((len(data), self.num_gaussians))\n",
    "        for i, x in enumerate(data):\n",
    "            p_xs = np.array([st.multivariate_normal.pdf(x, mean=self.mus[k], cov=self.vars[k]) * self.phis[k] \n",
    "                            for k in range(self.num_gaussians)])\n",
    "            ps[i] = p_xs\n",
    "            ws[i] = p_xs / np.sum(p_xs)\n",
    "        return ws, ps\n",
    "    \n",
    "    def get_prob(self, data):\n",
    "        ws = np.zeros((len(data), self.num_gaussians))\n",
    "        for i, x in enumerate(data):\n",
    "            p_xs = np.array([st.multivariate_normal.pdf(x, mean=self.mus[k], cov=self.vars[k]) * self.phis[k] \n",
    "                            for k in range(self.num_gaussians)])\n",
    "            ws[i] = p_xs\n",
    "        return ws\n",
    "    \n",
    "    def m_step(self, data, ws):\n",
    "        m = len(data)\n",
    "        self.phis = np.sum(ws, axis=0) / m\n",
    "        for k in range(self.num_gaussians):\n",
    "            self.mus[k] = np.sum(ws[:, k].reshape(m, 1) * data, axis=0) / (self.phis[k] * m)\n",
    "            self.vars[k] = np.sum(ws[:, k].reshape(m, 1) * (data - self.mus[k])**2, axis=0) / (self.phis[k] * m)"
   ]
  },
  {
   "cell_type": "code",
   "execution_count": null,
   "metadata": {
    "scrolled": true
   },
   "outputs": [],
   "source": [
    "em_clusterer = EM(num_gaussians=4)\n",
    "em_clusterer.fit(data, None, steps=20)\n",
    "#em_clusterer.plot(data)\n",
    "#em_clusterer.predict(data)"
   ]
  },
  {
   "cell_type": "code",
   "execution_count": null,
   "metadata": {},
   "outputs": [],
   "source": [
    "from sklearn.cluster import KMeans\n",
    "clf = KMeans(n_clusters=4)\n",
    "clf.fit(data)\n",
    "predicted_labels = clf.predict(data)\n",
    "all_colors = [(1, 0, 0), (0, 1, 0), (0, 0, 1), (1, 1, 0), (1, 0, 1), (0, 1, 1)]\n",
    "colors = [all_colors[label] for label in predicted_labels]"
   ]
  },
  {
   "cell_type": "code",
   "execution_count": null,
   "metadata": {},
   "outputs": [],
   "source": [
    "print(predicted_labels)"
   ]
  },
  {
   "cell_type": "code",
   "execution_count": null,
   "metadata": {},
   "outputs": [],
   "source": [
    "plt.ion()\n",
    "plt.figure(0)\n",
    "plt.scatter(data[:, 0], data[:, 1], color=colors)\n",
    "centers = np.array(clf.cluster_centers_)\n",
    "plt.scatter(centers[:, 0], centers[:, 1], marker='x', color='black', s=250, linewidth=4)\n",
    "plt.show()"
   ]
  },
  {
   "cell_type": "code",
   "execution_count": null,
   "metadata": {},
   "outputs": [],
   "source": [
    "clf.cluster_centers_"
   ]
  },
  {
   "cell_type": "code",
   "execution_count": null,
   "metadata": {},
   "outputs": [],
   "source": []
  },
  {
   "cell_type": "code",
   "execution_count": null,
   "metadata": {},
   "outputs": [],
   "source": []
  },
  {
   "cell_type": "code",
   "execution_count": null,
   "metadata": {},
   "outputs": [],
   "source": []
  }
 ],
 "metadata": {
  "kernelspec": {
   "display_name": "Python 3",
   "language": "python",
   "name": "python3"
  },
  "language_info": {
   "codemirror_mode": {
    "name": "ipython",
    "version": 3
   },
   "file_extension": ".py",
   "mimetype": "text/x-python",
   "name": "python",
   "nbconvert_exporter": "python",
   "pygments_lexer": "ipython3",
   "version": "3.6.8"
  }
 },
 "nbformat": 4,
 "nbformat_minor": 2
}
