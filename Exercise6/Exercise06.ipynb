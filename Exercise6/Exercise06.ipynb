{
 "cells": [
  {
   "cell_type": "markdown",
   "metadata": {},
   "source": [
    "# Exercise 6\n",
    "## Solution by Anton Wiehe & Angelie Kraft"
   ]
  },
  {
   "cell_type": "code",
   "execution_count": null,
   "metadata": {},
   "outputs": [],
   "source": [
    "import numpy as np\n",
    "import matplotlib.pyplot as plt\n",
    "import scipy.stats as st"
   ]
  },
  {
   "cell_type": "code",
   "execution_count": null,
   "metadata": {},
   "outputs": [],
   "source": [
    "gaussian_a = np.random.multivariate_normal([0, 0], [[1, 0], \n",
    "                                                    [0, 1]], 100)\n",
    "\n",
    "gaussian_b = np.random.multivariate_normal([0, 3], [[2, 0], \n",
    "                                                    [3, 2]], 100)\n",
    "\n",
    "gaussian_c = np.random.multivariate_normal([4, 0], [[2, 0], \n",
    "                                                    [1, 3]], 100)\n",
    "\n",
    "plt.scatter(gaussian_a[:, 0], gaussian_a[:, 1], color='blue')\n",
    "plt.scatter(gaussian_b[:, 0], gaussian_b[:, 1], color='green')\n",
    "plt.scatter(gaussian_c[:, 0], gaussian_c[:, 1], color='red')"
   ]
  },
  {
   "cell_type": "code",
   "execution_count": null,
   "metadata": {},
   "outputs": [],
   "source": [
    "phis = np.ones(3) / 3"
   ]
  },
  {
   "cell_type": "code",
   "execution_count": null,
   "metadata": {},
   "outputs": [],
   "source": [
    "data = np.concatenate([gaussian_a, gaussian_b, gaussian_c], axis=0)\n",
    "data.shape"
   ]
  },
  {
   "cell_type": "code",
   "execution_count": null,
   "metadata": {},
   "outputs": [],
   "source": [
    "mu_idxs = np.random.choice(range(len(data)), size=3, replace=False)\n",
    "mus = data[mu_idxs]"
   ]
  },
  {
   "cell_type": "code",
   "execution_count": null,
   "metadata": {},
   "outputs": [],
   "source": [
    "vars = np.ones((3, 2))"
   ]
  },
  {
   "cell_type": "code",
   "execution_count": null,
   "metadata": {},
   "outputs": [],
   "source": [
    "def e_step(data, phis, mus, vars):\n",
    "    ws = np.zeros((len(data), len(phis)))\n",
    "    for i, x in enumerate(data):\n",
    "        p_xs = np.array([st.multivariate_normal.pdf(x, mean=mus[k], cov=vars[k]) * phis[k] \n",
    "                        for k in range(len(phis))])\n",
    "        p_xs /= np.sum(p_xs)\n",
    "        ws[i] = p_xs\n",
    "    \n",
    "    return ws"
   ]
  },
  {
   "cell_type": "code",
   "execution_count": null,
   "metadata": {},
   "outputs": [],
   "source": [
    "ws = e_step(data, phis, mus, vars"
   ]
  },
  {
   "cell_type": "code",
   "execution_count": null,
   "metadata": {
    "scrolled": true
   },
   "outputs": [],
   "source": [
    "def m_step(data, ws, phis, mus, vars):\n",
    "    m = len(data)\n",
    "    phis = np.sum(ws, axis=0) / m\n",
    "    for k in range(len(mus)):\n",
    "        mus[k] = np.sum(ws[:, k].reshape(m, 1) * data, axis=0) / (phis[k] * m)\n",
    "        vars[k] = np.sum(ws[:, k].reshape(m, 1) * (data - mus[k])**2, axis=0) / (phis[k] * m)\n",
    "    return phis, mus, vars\n",
    "    "
   ]
  },
  {
   "cell_type": "code",
   "execution_count": null,
   "metadata": {},
   "outputs": [],
   "source": [
    "m_step(data, ws, phis, mus, vars)"
   ]
  },
  {
   "cell_type": "code",
   "execution_count": null,
   "metadata": {},
   "outputs": [],
   "source": []
  }
 ],
 "metadata": {
  "kernelspec": {
   "display_name": "Python 3",
   "language": "python",
   "name": "python3"
  },
  "language_info": {
   "codemirror_mode": {
    "name": "ipython",
    "version": 3
   },
   "file_extension": ".py",
   "mimetype": "text/x-python",
   "name": "python",
   "nbconvert_exporter": "python",
   "pygments_lexer": "ipython3",
   "version": "3.7.0"
  }
 },
 "nbformat": 4,
 "nbformat_minor": 2
}
