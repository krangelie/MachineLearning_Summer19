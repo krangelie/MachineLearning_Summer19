{
 "cells": [
  {
   "cell_type": "markdown",
   "metadata": {},
   "source": [
    "# Exercise 4\n",
    "### Anton Wiehe & Angelie Kraftelie"
   ]
  },
  {
   "cell_type": "code",
   "execution_count": 3,
   "metadata": {},
   "outputs": [],
   "source": [
    "from PIL import Image\n",
    "import numpy as np\n",
    "import matplotlib.pyplot as plt\n",
    "from sklearn import svm\n",
    "\n",
    "# Test image\n",
    "im_frame = Image.open(\"positives/\" + 'p01.png')\n",
    "np_frame = np.array(im_frame.getdata())\n",
    "\n",
    "# Load images (30, 573, 3) == (num_images, num_pixels, rgb)\n",
    "n = 30\n",
    "positives = np.zeros((n, 576, 3))\n",
    "for i in range(n):\n",
    "    im_frame = Image.open(\"positives/\" + 'p' + ('0' if (i+1) < 10 else '') + str(i + 1) + '.png')\n",
    "    positives[i] = np.array(im_frame.getdata())\n",
    "    \n",
    "negatives = np.zeros((n, 576, 3))\n",
    "for i in range(n):\n",
    "    im_frame = Image.open(\"negatives/\" + 'n' + ('0' if (i+1) < 10 else '') + str(i + 1) + '.png')\n",
    "    negatives[i] = np.array(im_frame.getdata())"
   ]
  },
  {
   "cell_type": "code",
   "execution_count": 4,
   "metadata": {},
   "outputs": [],
   "source": [
    "red_pos = positives[:, :, 0]\n",
    "green_pos = positives[:, :, 1]\n",
    "blue_pos = positives[:, :, 2]\n",
    "\n",
    "red_mean_pos = np.mean(red_pos, axis=1)\n",
    "blue_mean_pos = np.mean(green_pos, axis=1)\n",
    "green_mean_pos = np.mean(blue_pos, axis=1)"
   ]
  },
  {
   "cell_type": "code",
   "execution_count": 5,
   "metadata": {},
   "outputs": [],
   "source": [
    "red_neg = negatives[:, :, 0]\n",
    "green_neg = negatives[:, :, 1]\n",
    "blue_neg = negatives[:, :, 2]\n",
    "\n",
    "red_mean_neg = np.mean(red_neg, axis=1)\n",
    "blue_mean_neg = np.mean(green_neg, axis=1)\n",
    "green_mean_neg = np.mean(blue_neg, axis=1)"
   ]
  },
  {
   "cell_type": "code",
   "execution_count": 6,
   "metadata": {},
   "outputs": [],
   "source": [
    "red_std_pos = np.std(red_pos, axis=1)\n",
    "blue_std_pos = np.std(green_pos, axis=1)\n",
    "green_std_pos = np.std(blue_pos, axis=1)"
   ]
  },
  {
   "cell_type": "code",
   "execution_count": 7,
   "metadata": {},
   "outputs": [],
   "source": [
    "red_std_neg = np.std(red_neg, axis=1)\n",
    "blue_std_neg = np.std(green_neg, axis=1)\n",
    "green_std_neg = np.std(blue_neg, axis=1)\n",
    "\n",
    "\n",
    "max_five_pixels_red_pos = np.mean(np.sort(red_pos, axis=1)[:, :5], axis=1)\n",
    "max_five_pixels_blue_pos = np.mean(np.sort(blue_pos, axis=1)[:, :5], axis=1)\n",
    "max_five_pixels_green_pos = np.mean(np.sort(green_pos, axis=1)[:, :5], axis=1)\n",
    "\n",
    "max_five_pixels_red_neg = np.mean(np.sort(red_neg, axis=1)[:, :5], axis=1)\n",
    "max_five_pixels_blue_neg = np.mean(np.sort(blue_neg, axis=1)[:, :5], axis=1)\n",
    "max_five_pixels_green_neg = np.mean(np.sort(green_neg, axis=1)[:, :5], axis=1)"
   ]
  },
  {
   "cell_type": "code",
   "execution_count": 8,
   "metadata": {},
   "outputs": [],
   "source": [
    "pos_features = np.concatenate([np.reshape(red_std_pos, (n, 1)),\n",
    "                              np.reshape(blue_std_pos, (n, 1)), np.reshape(green_std_pos, (n, 1)), \n",
    "                              np.reshape(max_five_pixels_red_pos, (n, 1)), np.reshape(max_five_pixels_blue_pos, (n, 1))\n",
    "                            , np.reshape(max_five_pixels_green_pos, (n, 1))], axis=1)\n",
    "neg_features = np.concatenate([np.reshape(red_std_neg, (n, 1)),\n",
    "                              np.reshape(blue_std_neg, (n, 1)), np.reshape(green_std_neg, (n, 1)), \n",
    "                              np.reshape(max_five_pixels_red_neg, (n, 1)), np.reshape(max_five_pixels_blue_neg, (n, 1))\n",
    "                            , np.reshape(max_five_pixels_green_neg, (n, 1))], axis=1)\n",
    "num_features = np.shape(pos_features)[1]"
   ]
  },
  {
   "cell_type": "code",
   "execution_count": 9,
   "metadata": {},
   "outputs": [],
   "source": [
    "def split_test_train(features_0, features_1):\n",
    "    test_split_percentage = 0.05\n",
    "    number_of_tests = int(n * 2 * 0.1)\n",
    "\n",
    "    test_idxs = np.random.randint(0, n * 2, number_of_tests)\n",
    "    both = np.concatenate((features_0, features_1), axis=0)\n",
    "    test_features = both[test_idxs,:]\n",
    "    test_labels = (test_idxs >= 30)\n",
    "\n",
    "    #print(\"Test idxs: \", test_idxs)\n",
    "    idxs_0 = test_idxs[test_idxs < n]\n",
    "    idxs_1 = test_idxs[test_idxs >= n] - n\n",
    "\n",
    "    features_0 = np.delete(features_0, idxs_0, axis=0)\n",
    "    features_1 = np.delete(features_1, idxs_1, axis=0)\n",
    "    \n",
    "    return features_0, features_1, test_features, test_labels"
   ]
  },
  {
   "cell_type": "code",
   "execution_count": 10,
   "metadata": {},
   "outputs": [],
   "source": [
    "# Shuffle two lists in same order\n",
    "def shuffle(a,b):\n",
    "    assert len(a) == len(b)\n",
    "    idxs = np.arange(0, len(a), 1)\n",
    "    np.random.shuffle(idxs)\n",
    "    return a[idxs], b[idxs]"
   ]
  },
  {
   "cell_type": "code",
   "execution_count": 11,
   "metadata": {},
   "outputs": [],
   "source": [
    "def k_fold(features_0, features_1, k=10):\n",
    "    num_features = len(features_0[0])\n",
    "    split_percentage = 1 / k\n",
    "    samples_per_split = (len(features_0) + len(features_1)) // k\n",
    "    both_features = np.concatenate((features_0, features_1), axis=0)\n",
    "    both_labels = np.concatenate((np.zeros(len(features_0)), np.ones(len(features_1))), axis=0)\n",
    "    splits = np.zeros((k, samples_per_split, num_features))\n",
    "    splits_labels = np.zeros((k, samples_per_split))\n",
    "    for i in range(k):\n",
    "        split_idxs = np.random.randint(0, len(both_features), samples_per_split)\n",
    "        split_labels = both_labels[split_idxs]\n",
    "        split = both_features[split_idxs]\n",
    "\n",
    "        splits[i] = split\n",
    "        splits_labels[i] = split_labels\n",
    "\n",
    "        both_labels = np.delete(both_labels, split_idxs, axis=0)\n",
    "        both_features = np.delete(both_features, split_idxs, axis=0)\n",
    "\n",
    "    return splits, splits_labels\n",
    "    "
   ]
  },
  {
   "cell_type": "code",
   "execution_count": 12,
   "metadata": {},
   "outputs": [],
   "source": [
    "def evaluate_k_fold(splits, split_labels):\n",
    "    train_accuracies = np.zeros(len(splits))\n",
    "    test_accuracies = np.zeros(len(splits))\n",
    "    \n",
    "    train_accuracies = []\n",
    "    test_accuracies = []\n",
    "    for i in range(len(splits)):\n",
    "        features = np.concatenate((splits[0:i], splits[i + 1:]), axis=0)\n",
    "        labels = np.concatenate((split_labels[0:i], split_labels[i + 1:]), axis=0)\n",
    "        test_features = splits[i]\n",
    "        test_labels = split_labels[i]\n",
    "        features_0 = features[labels == 0]\n",
    "        features_1 = features[labels == 1]\n",
    "        \n",
    "        #print(np.shape(splits))\n",
    "        #print(np.shape(split_labels))\n",
    "        features = np.reshape(features, ((len(features) * len(features[0]), len(features[0][0]))))\n",
    "        labels = np.reshape(labels, (len(labels) * len(labels[0])))\n",
    "\n",
    "        #print(test_labels)\n",
    "        test_accuracy = train_and_test(features_0, features_1, test_features, test_labels)\n",
    "        test_accuracies.append(test_accuracy)\n",
    "        train_accuracy = train_and_test(features_0, features_1, features, labels)\n",
    "        train_accuracies.append(train_accuracy)\n",
    "        \n",
    "        #print(\"Split \", i ,)\n",
    "        #print(\" Test Accuracy: \", test_accuracy)\n",
    "        #print(\" Train Accuracy: \", train_accuracy)\n",
    "        #print()\n",
    "    \n",
    "    #print(\"train acc: \",train_accuracies)\n",
    "    #print(\"test acc: \", test_accuracies)\n",
    "    return np.mean(train_accuracies), np.mean(test_accuracies)\n",
    "        "
   ]
  },
  {
   "cell_type": "code",
   "execution_count": 70,
   "metadata": {},
   "outputs": [],
   "source": [
    "def train_and_test(features_0, features_1, test_features, test_labels):\n",
    "    clf = svm.SVC(kernel=\"sigmoid\", C=5, gamma=0.001)\n",
    "    \n",
    "    X = np.concatenate((features_0, features_1))\n",
    "    y = np.concatenate((np.zeros(len(features_0)), np.ones(len(features_1))))\n",
    "    \n",
    "    #mean = np.mean(X)\n",
    "    #std = np.std(X)\n",
    "    #X = (X - mean) / std\n",
    "    clf.fit(X, y) \n",
    "        \n",
    "    predictions = clf.predict(test_features)\n",
    "    #print(\"Pred: \", predictions)\n",
    "    #print(\"labels:\", test_labels)\n",
    "    #print(predictions == test_labels)\n",
    "    #print()\n",
    "    n_correct = sum(predictions == test_labels)\n",
    "  \n",
    "    return n_correct / len(test_features) #, clf.support_, clf.predict(X)\n",
    "    "
   ]
  },
  {
   "cell_type": "code",
   "execution_count": 71,
   "metadata": {},
   "outputs": [
    {
     "data": {
      "text/plain": [
       "(0.5203703703703704, 0.4499999999999999)"
      ]
     },
     "execution_count": 71,
     "metadata": {},
     "output_type": "execute_result"
    }
   ],
   "source": [
    "#folds, labels = k_fold(pos_features, neg_features, 1)\n",
    "#folds\n",
    "#train, test = evaluate_k_fold(folds, labels)\n",
    "#print(\"Overall train - test accuracy: \", train, test)\n",
    "#train_and_test(pos_features, neg_features, np.concatenate((pos_features, neg_features)), np.concatenate((np.zeros(30), np.ones(30))))\n",
    "splits, labels = k_fold(pos_features, neg_features, 10)\n",
    "\n",
    "evaluate_k_fold(splits, labels)"
   ]
  },
  {
   "cell_type": "markdown",
   "metadata": {},
   "source": [
    "rbf: 0.983\n",
    "    sigmoid: 0.0\n",
    "        poly: 0.883\n",
    "            linear: 0.983"
   ]
  },
  {
   "cell_type": "code",
   "execution_count": null,
   "metadata": {},
   "outputs": [],
   "source": []
  },
  {
   "cell_type": "code",
   "execution_count": null,
   "metadata": {},
   "outputs": [],
   "source": []
  },
  {
   "cell_type": "code",
   "execution_count": null,
   "metadata": {},
   "outputs": [],
   "source": []
  },
  {
   "cell_type": "code",
   "execution_count": null,
   "metadata": {},
   "outputs": [],
   "source": []
  },
  {
   "cell_type": "code",
   "execution_count": null,
   "metadata": {},
   "outputs": [],
   "source": []
  },
  {
   "cell_type": "code",
   "execution_count": null,
   "metadata": {},
   "outputs": [],
   "source": []
  },
  {
   "cell_type": "code",
   "execution_count": null,
   "metadata": {},
   "outputs": [],
   "source": []
  },
  {
   "cell_type": "markdown",
   "metadata": {},
   "source": []
  },
  {
   "cell_type": "code",
   "execution_count": null,
   "metadata": {},
   "outputs": [],
   "source": []
  },
  {
   "cell_type": "code",
   "execution_count": null,
   "metadata": {},
   "outputs": [],
   "source": []
  }
 ],
 "metadata": {
  "kernelspec": {
   "display_name": "Python 3",
   "language": "python",
   "name": "python3"
  },
  "language_info": {
   "codemirror_mode": {
    "name": "ipython",
    "version": 3
   },
   "file_extension": ".py",
   "mimetype": "text/x-python",
   "name": "python",
   "nbconvert_exporter": "python",
   "pygments_lexer": "ipython3",
   "version": "3.6.4"
  }
 },
 "nbformat": 4,
 "nbformat_minor": 2
}
